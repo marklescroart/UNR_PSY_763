{
 "cells": [
  {
   "cell_type": "markdown",
   "metadata": {},
   "source": [
    " # PSY 763 week 3\n",
    " \n",
    "This week we will:\n",
    "\n",
    "1. Get more familiar with how to generate and index into arrays in python\n",
    "1. Learn how matrix multiplications work in python\n",
    "1. Generate data based on multiple categorical predictors\n",
    "1. Fit $\\beta$ weights for the categorical predictors in an ordinary least squares regression\n",
    "\n",
    "HOLY COW that's a lot - let's get going!"
   ]
  },
  {
   "cell_type": "code",
   "execution_count": null,
   "metadata": {
    "collapsed": true
   },
   "outputs": [],
   "source": [
    "# Imports\n",
    "import numpy as np\n",
    "import matplotlib.pyplot as plt\n",
    "%matplotlib inline"
   ]
  },
  {
   "cell_type": "markdown",
   "metadata": {},
   "source": [
    "## Basic python concepts we will use this week:\n",
    "\n",
    "1. Lists\n",
    "1. Arrays\n",
    "1. Definition of arrays using: `np.array()`, `np.zeros()`, `np.ones()`, `np.random.rand()`, `np.random.randn()`\n",
    "1. Calling array methods\n",
    "1. For loops"
   ]
  },
  {
   "cell_type": "markdown",
   "metadata": {},
   "source": [
    "### 1. Lists"
   ]
  },
  {
   "cell_type": "code",
   "execution_count": null,
   "metadata": {
    "collapsed": true
   },
   "outputs": [],
   "source": [
    "# This is a list. It has four elements. \n",
    "a = [1, 2, 6, 9]\n",
    "# display the list:\n",
    "print(a)"
   ]
  },
  {
   "cell_type": "markdown",
   "metadata": {},
   "source": [
    "A list is a general python structure, and can be used in many contexts. A list can hold strings, numbers, other lists - (nearly) anything you want. For example, a list can hold users of a website:\n",
    "\n",
    "```python\n",
    "users = ['bsmith', 'jdoe', 'sramonycajal']\n",
    "```\n",
    "\n",
    "This means it's a bad idea to try to do math on a list. Multiplication expands the number of items in a list:"
   ]
  },
  {
   "cell_type": "code",
   "execution_count": null,
   "metadata": {
    "collapsed": true
   },
   "outputs": [],
   "source": [
    "# This repeats the list 3 times rather than multiplying the elements by 3\n",
    "test_list = [1, 9, 3]\n",
    "print(test_list * 3)"
   ]
  },
  {
   "cell_type": "code",
   "execution_count": null,
   "metadata": {
    "collapsed": true
   },
   "outputs": [],
   "source": [
    "# Lists can be used for loops. Arrays, or any other iterable variable type, can also be used -\n",
    "# just not scalars (individual numbers)\n",
    "test_list = [3, 7, 9]\n",
    "for t in test_list:\n",
    "    print('next list element is', t)"
   ]
  },
  {
   "cell_type": "code",
   "execution_count": null,
   "metadata": {
    "collapsed": true
   },
   "outputs": [],
   "source": [
    "# This fails; the scalar number 3 is not *iterable*\n",
    "for wtf in 3:\n",
    "    print(wtf)"
   ]
  },
  {
   "cell_type": "markdown",
   "metadata": {},
   "source": [
    "### 2. Arrays\n",
    "Arrays are the main type of variable you will use in numpy, and are designed for doing math. "
   ]
  },
  {
   "cell_type": "code",
   "execution_count": null,
   "metadata": {
    "collapsed": true
   },
   "outputs": [],
   "source": [
    "# The simplest way to define an array is to make a list of the values you want in it.\n",
    "# the input to np.array is a list:\n",
    "a_list = [1, 2, 3]\n",
    "a = np.array(a_list)\n",
    "# ... but you can condense these two steps to one, thus:\n",
    "b = np.array([4, 5, 6])\n",
    "# When printed, these look like lists...\n",
    "print(a)\n",
    "print(b)\n",
    "# ... but they're not!"
   ]
  },
  {
   "cell_type": "code",
   "execution_count": null,
   "metadata": {
    "collapsed": true
   },
   "outputs": [],
   "source": [
    "# arrays can be multiplied by scalars (constants)\n",
    "print('a * 3 =')\n",
    "print(a * 3)\n",
    "# Elementwise multiplication\n",
    "print('a * b = ')\n",
    "print(a * b)"
   ]
  },
  {
   "cell_type": "code",
   "execution_count": null,
   "metadata": {
    "collapsed": true
   },
   "outputs": [],
   "source": [
    "# Arrays can be 2D as well. Notice that the input to np.array() here is a list of lists\n",
    "c = np.array([[1,2,3],[4,5,6]])\n",
    "print(c)"
   ]
  },
  {
   "cell_type": "code",
   "execution_count": null,
   "metadata": {
    "collapsed": true
   },
   "outputs": [],
   "source": [
    "# You can get the shape of an array using:\n",
    "print('shape of c is :', np.shape(c))\n",
    "# This is just like matlab's `size()` function"
   ]
  },
  {
   "cell_type": "code",
   "execution_count": null,
   "metadata": {
    "collapsed": true
   },
   "outputs": [],
   "source": [
    "# You can also get the shape of an array by accessing the shape *property* of the array:\n",
    "print('shape of c is: ', c.shape)"
   ]
  },
  {
   "cell_type": "markdown",
   "metadata": {},
   "source": [
    "Arrays (and lists!) have both *properties* and *methods* associated with them. These can be accessed with \".\" syntax (`<variable_name>.<property>` or `<variable_name>.<method()>)`), for example:\n",
    "\n",
    "```python\n",
    "c.shape # shape is a property\n",
    "c.T # .T is a method (a shortcut for c.transpose()\n",
    "```\n",
    "\n",
    "*properties* are constants or values associated with an object\n",
    "\n",
    "*methods* are functions that operate on an object (potentially with other inputs)"
   ]
  },
  {
   "cell_type": "code",
   "execution_count": null,
   "metadata": {
    "collapsed": true
   },
   "outputs": [],
   "source": [
    "print(\"plain ol' c:\")\n",
    "print(c)\n",
    "print('')\n",
    "print('c, transposed:')\n",
    "print(c.T)"
   ]
  },
  {
   "cell_type": "markdown",
   "metadata": {},
   "source": [
    "### 3. Generation of arrays\n",
    "Often, you don't want to define an array by hand (i.e., by typing out the values that should constitute each cell in the array). Instead, you want, for example, to initialize an array to a bunch of zeros, or a bunch of ones, or random numbers, in some particular shape. This is what the following commands are for: \n",
    "\n",
    "```python\n",
    "np.zeros() # All zeros\n",
    "np.ones() # All ones\n",
    "np.linspace() # evenly (linearly) spaced values between some min and max\n",
    "np.arange() # \"array-range\" - a range of numbers between some minimum and some maximum, with a step size specified\n",
    "np.random.rand() # Numbers evenly distributed between 0 and 1\n",
    "np.random.randn() # Random numbers from a standard normal distribution (mean 0, standard deviation 1)\n",
    "np.random.randint() # Random INTEGERS\n",
    "```\n",
    "\n",
    "As always, see the HELP for each of these functions for details about what kind of values are used as arguments to the functions!\n",
    "\n",
    "e.g.:\n",
    "```python\n",
    "# Get help! What do inputs mean??\n",
    "np.ones? \n",
    "```"
   ]
  },
  {
   "cell_type": "code",
   "execution_count": null,
   "metadata": {
    "collapsed": true
   },
   "outputs": [],
   "source": [
    "# examples\n",
    "all_ones = np.ones((4,3))\n",
    "print(all_ones)\n",
    "\n",
    "print('')\n",
    "\n",
    "random_uniform = np.random.rand(4,3)\n",
    "print(random_uniform)"
   ]
  },
  {
   "cell_type": "markdown",
   "metadata": {},
   "source": [
    "### Array indexing\n",
    "To select values from an array, you use brackets (`[]`)"
   ]
  },
  {
   "cell_type": "code",
   "execution_count": null,
   "metadata": {
    "collapsed": true
   },
   "outputs": [],
   "source": [
    "# Define a vector X\n",
    "X = np.array([2, 4, 5, 8, 3, 1, 9])\n",
    "print(X[3])"
   ]
  },
  {
   "cell_type": "markdown",
   "metadata": {},
   "source": [
    "Remember, python uses zero-based indexing, so the first value in the array is index 0, the second is 1, etc! THIS IS NEARLY GUARANTEED TO MIX YOU UP IF YOU COME FROM MATLAB. But it's useful! and good for you! and you will see why as we go.\n",
    "\n",
    "You can select ranges of values from an array using slightly different syntax. For example, to select the 2nd, 3rd, and 4th values in a vector array `X`, you would do the following:"
   ]
  },
  {
   "cell_type": "code",
   "execution_count": null,
   "metadata": {
    "collapsed": true
   },
   "outputs": [],
   "source": [
    "print(X)\n",
    "print(X[1:4])"
   ]
  },
  {
   "cell_type": "code",
   "execution_count": null,
   "metadata": {
    "collapsed": true
   },
   "outputs": [],
   "source": [
    "# For the last n values:\n",
    "print(X)\n",
    "print(X[-3:])"
   ]
  },
  {
   "cell_type": "code",
   "execution_count": null,
   "metadata": {
    "collapsed": true
   },
   "outputs": [],
   "source": [
    "# For the first n values:\n",
    "print(X)\n",
    "print(X[:3])"
   ]
  },
  {
   "cell_type": "code",
   "execution_count": null,
   "metadata": {
    "collapsed": true
   },
   "outputs": [],
   "source": [
    "# For every other value:\n",
    "print(X)\n",
    "print(X[::2])"
   ]
  },
  {
   "cell_type": "markdown",
   "metadata": {},
   "source": [
    "Note that for all of the above, the pattern is [start_index:end_index:step]. Any of these left blank are assumed to be the beginning of the array, the end of the array, and 1, respectively. \n",
    "\n",
    "Now, you try it! "
   ]
  },
  {
   "cell_type": "markdown",
   "metadata": {},
   "source": [
    "# Exercises"
   ]
  },
  {
   "cell_type": "code",
   "execution_count": null,
   "metadata": {
    "collapsed": true
   },
   "outputs": [],
   "source": [
    "# Print every other value, starting with the SECOND value in the array (i.e. starting with the 4)\n",
    "print(X[...]) # FILL ME IN!"
   ]
  },
  {
   "cell_type": "code",
   "execution_count": null,
   "metadata": {
    "collapsed": true
   },
   "outputs": [],
   "source": [
    "# Print all the values in X in reverse order\n",
    "print(X[...]) # FILL ME IN!"
   ]
  },
  {
   "cell_type": "code",
   "execution_count": null,
   "metadata": {
    "collapsed": true
   },
   "outputs": [],
   "source": []
  },
  {
   "cell_type": "code",
   "execution_count": null,
   "metadata": {
    "collapsed": true
   },
   "outputs": [],
   "source": []
  },
  {
   "cell_type": "markdown",
   "metadata": {},
   "source": [
    "You can index multi-dimensional arrays the same way, with one value per "
   ]
  },
  {
   "cell_type": "code",
   "execution_count": null,
   "metadata": {
    "collapsed": true
   },
   "outputs": [],
   "source": [
    "# Create a 2D array of shape (10,4), print the array, and then print all values in the 2nd (index=2) column\n",
    "X_2d = ??? # FILL ME IN!\n"
   ]
  },
  {
   "cell_type": "code",
   "execution_count": null,
   "metadata": {
    "collapsed": true
   },
   "outputs": [],
   "source": [
    "# What is the difference between the following two lines?\n",
    "A = X_2d[:4, 0]\n",
    "B = X_2d[:4, :1]\n",
    "# (see what A and B are. Why would this difference be useful?)"
   ]
  },
  {
   "cell_type": "markdown",
   "metadata": {},
   "source": [
    "Make a design matrix! Last week, we created a single predictor of ones and zeros. Now, create a 2D array, in which each column is a predictor. \n",
    "\n",
    "Useful functions to combine arrays are: \n",
    "\n",
    "```python\n",
    "np.hstack()\n",
    "np.vstack()\n",
    "np.concatenate()\n",
    "```\n",
    "\n",
    "Look up the help for these functions to see what they do!\n",
    "```python\n",
    "np.hstack?\n",
    "```"
   ]
  },
  {
   "cell_type": "code",
   "execution_count": null,
   "metadata": {
    "collapsed": true
   },
   "outputs": [],
   "source": [
    "# Function to define indicator variable that we used last week: \n",
    "def define_indicator(n_timepoints, onsets, duration):\n",
    "    \"\"\"Defines an indicator variable given onsets and constant durations\n",
    "    \n",
    "    Parameters\n",
    "    ----------\n",
    "    n_timepoints : scalar, int\n",
    "        number of timepoints in timecourse of predictor\n",
    "    onsets : array-like \n",
    "        list or array of indices for onsets of conditions\n",
    "    duration : scalar\n",
    "        number of indices in timecourse for which conditions are \"on\"\n",
    "    \"\"\"\n",
    "    x = np.zeros(n_timepoints)\n",
    "    for on in onsets:\n",
    "        # Note that this was changed to += 1 instead of = 1 - what does that do??\n",
    "        x[on:on+duration] += 1\n",
    "    return x"
   ]
  },
  {
   "cell_type": "code",
   "execution_count": null,
   "metadata": {
    "collapsed": true
   },
   "outputs": [],
   "source": [
    "# Create a design matrix!\n",
    "X = ??? # This will be more than one line... unless it is a truly awful line of code."
   ]
  },
  {
   "cell_type": "code",
   "execution_count": null,
   "metadata": {
    "collapsed": true
   },
   "outputs": [],
   "source": []
  },
  {
   "cell_type": "code",
   "execution_count": null,
   "metadata": {
    "collapsed": true
   },
   "outputs": [],
   "source": []
  },
  {
   "cell_type": "markdown",
   "metadata": {},
   "source": [
    "# Simple matrix multiplications\n",
    "Matrix multiplication is NOT the default for arrays (as it is in matlab). So if `A` and `B` are arrays, multiplying them with `*` will get you the *element-wise product*:"
   ]
  },
  {
   "cell_type": "code",
   "execution_count": null,
   "metadata": {
    "collapsed": true
   },
   "outputs": [],
   "source": [
    "A = np.random.randint(0, 10, size=(4,3))\n",
    "B = np.random.randint(0, 10, size=(4,3))\n",
    "\n",
    "print(A)\n",
    "print(B)\n",
    "print(A*B)"
   ]
  },
  {
   "cell_type": "markdown",
   "metadata": {
    "collapsed": true
   },
   "source": [
    "# BREAK FOR LOTS OF CHALKBOARD TALK"
   ]
  },
  {
   "cell_type": "markdown",
   "metadata": {},
   "source": [
    "Matrix multiplications are done using `np.dot()`, or,  equivalently, the .dot() method of arrays:"
   ]
  },
  {
   "cell_type": "code",
   "execution_count": null,
   "metadata": {
    "collapsed": true
   },
   "outputs": [],
   "source": [
    "ATB = A.T.dot(B)\n",
    "print(A)\n",
    "print(B)\n",
    "print(ATB)"
   ]
  },
  {
   "cell_type": "code",
   "execution_count": null,
   "metadata": {
    "collapsed": true
   },
   "outputs": [],
   "source": []
  },
  {
   "cell_type": "markdown",
   "metadata": {},
   "source": [
    "Toy example: Adding up certain elements of an array"
   ]
  },
  {
   "cell_type": "code",
   "execution_count": null,
   "metadata": {
    "collapsed": true
   },
   "outputs": [],
   "source": []
  },
  {
   "cell_type": "markdown",
   "metadata": {},
   "source": [
    "Side note: what is the identity matrix?"
   ]
  },
  {
   "cell_type": "code",
   "execution_count": null,
   "metadata": {
    "collapsed": true
   },
   "outputs": [],
   "source": [
    "I = np.eye(4)\n",
    "print(I)"
   ]
  },
  {
   "cell_type": "code",
   "execution_count": null,
   "metadata": {
    "collapsed": true
   },
   "outputs": [],
   "source": [
    "A = np.random.randint(0, 10, size=(3,4)).astype(np.float)\n",
    "print(\"A\")\n",
    "print(A)\n",
    "print('A * I')\n",
    "print(A.dot(I))"
   ]
  },
  {
   "cell_type": "markdown",
   "metadata": {},
   "source": [
    "Why does this work? **BLACKBOARD**"
   ]
  },
  {
   "cell_type": "markdown",
   "metadata": {
    "collapsed": true
   },
   "source": [
    "# Generate data! \n",
    "Our model for fMRI data is that $Y = X\\beta + \\epsilon$, right? \n",
    "\n",
    "So, from the X you already have, specify some $\\beta$ weights, some noise, and generate a Y!"
   ]
  },
  {
   "cell_type": "code",
   "execution_count": null,
   "metadata": {
    "collapsed": true
   },
   "outputs": [],
   "source": [
    "Y = ... # FILL ME IN!"
   ]
  },
  {
   "cell_type": "code",
   "execution_count": null,
   "metadata": {
    "collapsed": true
   },
   "outputs": [],
   "source": []
  },
  {
   "cell_type": "markdown",
   "metadata": {},
   "source": [
    "# Fit the data! \n",
    "\n",
    "The equation to estimate $\\beta$ weights from data ($Y$) and a design matrix ($X$) is:\n",
    "\n",
    "## $\\beta = (X^TX)^{-1}X^TY$\n",
    "\n",
    "So, let's do that in python! You already have X and Y, the only thing you need to know is how to invert a matrix. You can use: \n",
    "\n",
    "```python\n",
    "np.linalg.inv()\n",
    "```\n",
    "to do this!\n",
    "\n",
    "Not as complicated as it sounds, at this point! Give it a try!\n"
   ]
  },
  {
   "cell_type": "code",
   "execution_count": null,
   "metadata": {
    "collapsed": true
   },
   "outputs": [],
   "source": []
  },
  {
   "cell_type": "code",
   "execution_count": null,
   "metadata": {
    "collapsed": true
   },
   "outputs": [],
   "source": []
  }
 ],
 "metadata": {
  "anaconda-cloud": {},
  "kernelspec": {
   "display_name": "Python 2",
   "language": "python",
   "name": "python2"
  },
  "language_info": {
   "codemirror_mode": {
    "name": "ipython",
    "version": 2
   },
   "file_extension": ".py",
   "mimetype": "text/x-python",
   "name": "python",
   "nbconvert_exporter": "python",
   "pygments_lexer": "ipython2",
   "version": "2.7.12"
  }
 },
 "nbformat": 4,
 "nbformat_minor": 1
}
