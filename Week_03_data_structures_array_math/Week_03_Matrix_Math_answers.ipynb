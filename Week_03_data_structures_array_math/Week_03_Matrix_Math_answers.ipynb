{
 "cells": [
  {
   "cell_type": "markdown",
   "metadata": {},
   "source": [
    " # PSY 763 week 3\n",
    " \n",
    "This week we will:\n",
    "\n",
    "1. Get more familiar with how to generate and index into arrays in python\n",
    "1. Learn how matrix multiplications work in python\n",
    "1. Generate data based on multiple categorical predictors\n",
    "1. Fit $\\beta$ weights for the categorical predictors in an ordinary least squares regression\n",
    "\n",
    "HOLY COW that's a lot - let's get going!"
   ]
  },
  {
   "cell_type": "code",
   "execution_count": 1,
   "metadata": {},
   "outputs": [],
   "source": [
    "# Imports\n",
    "import numpy as np\n",
    "import matplotlib.pyplot as plt\n",
    "%matplotlib inline\n",
    "# A few config options\n",
    "plt.rcParams['image.aspect'] = 'auto'\n",
    "plt.rcParams['image.interpolation'] = 'nearest'"
   ]
  },
  {
   "cell_type": "markdown",
   "metadata": {},
   "source": [
    "## Basic python concepts we will use this week:\n",
    "\n",
    "1. Lists\n",
    "1. Arrays\n",
    "1. Definition of arrays using: `np.array()`, `np.zeros()`, `np.ones()`, `np.random.rand()`, `np.random.randn()`\n",
    "1. Calling array methods\n",
    "1. For loops"
   ]
  },
  {
   "cell_type": "markdown",
   "metadata": {},
   "source": [
    "### 1. Lists"
   ]
  },
  {
   "cell_type": "code",
   "execution_count": 2,
   "metadata": {},
   "outputs": [
    {
     "name": "stdout",
     "output_type": "stream",
     "text": [
      "[1, 2, 6, 9]\n"
     ]
    }
   ],
   "source": [
    "# This is a list. It has four elements. \n",
    "a = [1, 2, 6, 9]\n",
    "# display the list:\n",
    "print(a)"
   ]
  },
  {
   "cell_type": "markdown",
   "metadata": {},
   "source": [
    "A list is a general python structure, and can be used in many contexts. A list can hold strings, numbers, other lists - (nearly) anything you want. For example, a list can hold users of a website:\n",
    "\n",
    "```python\n",
    "users = ['bsmith', 'jdoe', 'sramonycajal']\n",
    "```\n",
    "\n",
    "This means it's a bad idea to try to do math on a list. Multiplication expands the number of items in a list:"
   ]
  },
  {
   "cell_type": "code",
   "execution_count": 3,
   "metadata": {},
   "outputs": [
    {
     "name": "stdout",
     "output_type": "stream",
     "text": [
      "[1, 9, 3, 1, 9, 3, 1, 9, 3]\n"
     ]
    }
   ],
   "source": [
    "# This repeats the list 3 times rather than multiplying the elements by 3\n",
    "test_list = [1, 9, 3]\n",
    "print(test_list * 3)"
   ]
  },
  {
   "cell_type": "code",
   "execution_count": 4,
   "metadata": {},
   "outputs": [
    {
     "name": "stdout",
     "output_type": "stream",
     "text": [
      "next list element is 3\n",
      "next list element is 7\n",
      "next list element is 9\n"
     ]
    }
   ],
   "source": [
    "# Lists can be used for loops. Arrays, or any other iterable variable type, can also be used -\n",
    "# just not scalars (individual numbers)\n",
    "test_list = [3, 7, 9]\n",
    "for t in test_list:\n",
    "    print('next list element is', t)"
   ]
  },
  {
   "cell_type": "code",
   "execution_count": 5,
   "metadata": {},
   "outputs": [
    {
     "ename": "TypeError",
     "evalue": "'int' object is not iterable",
     "output_type": "error",
     "traceback": [
      "\u001b[0;31m---------------------------------------------------------------------------\u001b[0m",
      "\u001b[0;31mTypeError\u001b[0m                                 Traceback (most recent call last)",
      "\u001b[0;32m<ipython-input-5-4ba0c6dbadb8>\u001b[0m in \u001b[0;36m<module>\u001b[0;34m()\u001b[0m\n\u001b[1;32m      1\u001b[0m \u001b[0;31m# This fails; the scalar number 3 is not *iterable*\u001b[0m\u001b[0;34m\u001b[0m\u001b[0;34m\u001b[0m\u001b[0m\n\u001b[0;32m----> 2\u001b[0;31m \u001b[0;32mfor\u001b[0m \u001b[0mwtf\u001b[0m \u001b[0;32min\u001b[0m \u001b[0;36m3\u001b[0m\u001b[0;34m:\u001b[0m\u001b[0;34m\u001b[0m\u001b[0m\n\u001b[0m\u001b[1;32m      3\u001b[0m     \u001b[0mprint\u001b[0m\u001b[0;34m(\u001b[0m\u001b[0mwtf\u001b[0m\u001b[0;34m)\u001b[0m\u001b[0;34m\u001b[0m\u001b[0m\n",
      "\u001b[0;31mTypeError\u001b[0m: 'int' object is not iterable"
     ]
    }
   ],
   "source": [
    "# This fails; the scalar number 3 is not *iterable*\n",
    "for wtf in 3:\n",
    "    print(wtf)"
   ]
  },
  {
   "cell_type": "markdown",
   "metadata": {},
   "source": [
    "### 2. Arrays\n",
    "Arrays are the main type of variable you will use in numpy, and are designed for doing math. "
   ]
  },
  {
   "cell_type": "code",
   "execution_count": 6,
   "metadata": {},
   "outputs": [
    {
     "name": "stdout",
     "output_type": "stream",
     "text": [
      "[1 2 3]\n",
      "[4 5 6]\n"
     ]
    }
   ],
   "source": [
    "# The simplest way to define an array is to make a list of the values you want in it.\n",
    "# the input to np.array is a list:\n",
    "a_list = [1, 2, 3]\n",
    "a = np.array(a_list)\n",
    "# ... but you can condense these two steps to one, thus:\n",
    "b = np.array([4, 5, 6])\n",
    "# When printed, these look like lists...\n",
    "print(a)\n",
    "print(b)\n",
    "# ... but they're not!"
   ]
  },
  {
   "cell_type": "code",
   "execution_count": 7,
   "metadata": {},
   "outputs": [
    {
     "name": "stdout",
     "output_type": "stream",
     "text": [
      "a * 3 =\n",
      "[3 6 9]\n",
      "a * b = \n",
      "[ 4 10 18]\n"
     ]
    }
   ],
   "source": [
    "# arrays can be multiplied by scalars (constants)\n",
    "print('a * 3 =')\n",
    "print(a * 3)\n",
    "# Elementwise multiplication\n",
    "print('a * b = ')\n",
    "print(a * b)"
   ]
  },
  {
   "cell_type": "code",
   "execution_count": 8,
   "metadata": {},
   "outputs": [
    {
     "name": "stdout",
     "output_type": "stream",
     "text": [
      "[[1 2 3]\n",
      " [4 5 6]]\n"
     ]
    }
   ],
   "source": [
    "# Arrays can be 2D as well. Notice that the input to np.array() here is a list of lists\n",
    "c = np.array([[1,2,3],[4,5,6]])\n",
    "print(c)"
   ]
  },
  {
   "cell_type": "code",
   "execution_count": 9,
   "metadata": {},
   "outputs": [
    {
     "name": "stdout",
     "output_type": "stream",
     "text": [
      "shape of c is : (2, 3)\n"
     ]
    }
   ],
   "source": [
    "# You can get the shape of an array using:\n",
    "print('shape of c is :', np.shape(c))\n",
    "# This is just like matlab's `size()` function"
   ]
  },
  {
   "cell_type": "code",
   "execution_count": 10,
   "metadata": {},
   "outputs": [
    {
     "name": "stdout",
     "output_type": "stream",
     "text": [
      "shape of c is:  (2, 3)\n"
     ]
    }
   ],
   "source": [
    "# You can also get the shape of an array by accessing the shape *property* of the array:\n",
    "print('shape of c is: ', c.shape)"
   ]
  },
  {
   "cell_type": "markdown",
   "metadata": {},
   "source": [
    "Arrays (and lists!) have both *properties* and *methods* associated with them. These can be accessed with \".\" syntax (`<variable_name>.<property>` or `<variable_name>.<method()>)`), for example:\n",
    "\n",
    "```python\n",
    "c.shape # shape is a property\n",
    "c.T # .T is a method (a shortcut for c.transpose()\n",
    "```\n",
    "\n",
    "*properties* are constants or values associated with an object\n",
    "\n",
    "*methods* are functions that operate on an object (potentially with other inputs)"
   ]
  },
  {
   "cell_type": "code",
   "execution_count": 11,
   "metadata": {},
   "outputs": [
    {
     "name": "stdout",
     "output_type": "stream",
     "text": [
      "plain ol' c:\n",
      "[[1 2 3]\n",
      " [4 5 6]]\n",
      "\n",
      "c, transposed:\n",
      "[[1 4]\n",
      " [2 5]\n",
      " [3 6]]\n"
     ]
    }
   ],
   "source": [
    "print(\"plain ol' c:\")\n",
    "print(c)\n",
    "print('')\n",
    "print('c, transposed:')\n",
    "print(c.T)"
   ]
  },
  {
   "cell_type": "markdown",
   "metadata": {},
   "source": [
    "### 3. Generation of arrays\n",
    "Often, you don't want to define an array by hand (i.e., by typing out the values that should constitute each cell in the array). Instead, you want, for example, to initialize an array to a bunch of zeros, or a bunch of ones, or random numbers, in some particular shape. This is what the following commands are for: \n",
    "\n",
    "```python\n",
    "np.zeros() # All zeros\n",
    "np.ones() # All ones\n",
    "np.linspace() # evenly (linearly) spaced values between some min and max\n",
    "np.arange() # \"array-range\" - a range of numbers between some minimum and some maximum, with a step size specified\n",
    "np.random.rand() # Numbers evenly distributed between 0 and 1\n",
    "np.random.randn() # Random numbers from a standard normal distribution (mean 0, standard deviation 1)\n",
    "np.random.randint() # Random INTEGERS\n",
    "```\n",
    "\n",
    "As always, see the HELP for each of these functions for details about what kind of values are used as arguments to the functions!\n",
    "\n",
    "e.g.:\n",
    "```python\n",
    "# Get help! What do inputs mean??\n",
    "np.ones? \n",
    "```"
   ]
  },
  {
   "cell_type": "code",
   "execution_count": 12,
   "metadata": {},
   "outputs": [
    {
     "name": "stdout",
     "output_type": "stream",
     "text": [
      "[[1. 1. 1.]\n",
      " [1. 1. 1.]\n",
      " [1. 1. 1.]\n",
      " [1. 1. 1.]]\n",
      "\n",
      "[[0.2968277  0.12862968 0.44344073]\n",
      " [0.43717238 0.40946211 0.90640218]\n",
      " [0.67958587 0.50768419 0.90484704]\n",
      " [0.18290909 0.92557078 0.71373474]]\n"
     ]
    }
   ],
   "source": [
    "# examples\n",
    "all_ones = np.ones((4,3))\n",
    "print(all_ones)\n",
    "\n",
    "print('')\n",
    "\n",
    "random_uniform = np.random.rand(4,3)\n",
    "print(random_uniform)"
   ]
  },
  {
   "cell_type": "markdown",
   "metadata": {},
   "source": [
    "### Array indexing\n",
    "To select values from an array, you use brackets (`[]`)"
   ]
  },
  {
   "cell_type": "code",
   "execution_count": 13,
   "metadata": {},
   "outputs": [
    {
     "name": "stdout",
     "output_type": "stream",
     "text": [
      "8\n"
     ]
    }
   ],
   "source": [
    "# Define a vector X\n",
    "X = np.array([2, 4, 5, 8, 3, 1, 9])\n",
    "print(X[3])"
   ]
  },
  {
   "cell_type": "markdown",
   "metadata": {},
   "source": [
    "Remember, python uses zero-based indexing, so the first value in the array is index 0, the second is 1, etc! THIS IS NEARLY GUARANTEED TO MIX YOU UP IF YOU COME FROM MATLAB. But it's useful! and good for you! and you will see why as we go.\n",
    "\n",
    "You can select ranges of values from an array using slightly different syntax. For example, to select the 2nd, 3rd, and 4th values in a vector array `X`, you would do the following:"
   ]
  },
  {
   "cell_type": "code",
   "execution_count": 14,
   "metadata": {},
   "outputs": [
    {
     "name": "stdout",
     "output_type": "stream",
     "text": [
      "[2 4 5 8 3 1 9]\n",
      "[4 5 8]\n"
     ]
    }
   ],
   "source": [
    "print(X)\n",
    "print(X[1:4])"
   ]
  },
  {
   "cell_type": "code",
   "execution_count": 15,
   "metadata": {},
   "outputs": [
    {
     "name": "stdout",
     "output_type": "stream",
     "text": [
      "[2 4 5 8 3 1 9]\n",
      "[3 1 9]\n"
     ]
    }
   ],
   "source": [
    "# For the last n values:\n",
    "print(X)\n",
    "print(X[-3:])"
   ]
  },
  {
   "cell_type": "code",
   "execution_count": 16,
   "metadata": {},
   "outputs": [
    {
     "name": "stdout",
     "output_type": "stream",
     "text": [
      "[2 4 5 8 3 1 9]\n",
      "[2 4 5]\n"
     ]
    }
   ],
   "source": [
    "# For the first n values:\n",
    "print(X)\n",
    "print(X[:3])"
   ]
  },
  {
   "cell_type": "code",
   "execution_count": 17,
   "metadata": {},
   "outputs": [
    {
     "name": "stdout",
     "output_type": "stream",
     "text": [
      "[2 4 5 8 3 1 9]\n",
      "[2 5 3 9]\n"
     ]
    }
   ],
   "source": [
    "# For every other value:\n",
    "print(X)\n",
    "print(X[::2])"
   ]
  },
  {
   "cell_type": "markdown",
   "metadata": {},
   "source": [
    "Note that for all of the above, the pattern is [start_index:end_index:step]. Any of these left blank are assumed to be the beginning of the array, the end of the array, and 1, respectively. \n",
    "\n",
    "Now, you try it! "
   ]
  },
  {
   "cell_type": "markdown",
   "metadata": {},
   "source": [
    "# Exercises"
   ]
  },
  {
   "cell_type": "code",
   "execution_count": 18,
   "metadata": {},
   "outputs": [
    {
     "name": "stdout",
     "output_type": "stream",
     "text": [
      "[2 4 5 8 3 1 9]\n",
      "[4 8 1]\n"
     ]
    }
   ],
   "source": [
    "# Print every other value, starting with the SECOND value in the array (i.e. starting with the 4)\n",
    "print(X)\n",
    "print(X[1::2]) "
   ]
  },
  {
   "cell_type": "markdown",
   "metadata": {},
   "source": [
    "Note: This is a useful trick that gets used fairly often!"
   ]
  },
  {
   "cell_type": "code",
   "execution_count": 19,
   "metadata": {},
   "outputs": [
    {
     "name": "stdout",
     "output_type": "stream",
     "text": [
      "[9 1 3 8 5 4 2]\n"
     ]
    }
   ],
   "source": [
    "# Print all the values in X in reverse order\n",
    "print(X[::-1]) "
   ]
  },
  {
   "cell_type": "markdown",
   "metadata": {},
   "source": [
    "You can index multi-dimensional arrays the same way, with one value per "
   ]
  },
  {
   "cell_type": "code",
   "execution_count": 20,
   "metadata": {},
   "outputs": [
    {
     "name": "stdout",
     "output_type": "stream",
     "text": [
      "X:\n",
      "[[ 1.68512465 -1.13445335  0.44397117 -0.37705052]\n",
      " [ 0.59010567 -0.30271903  1.2509142   1.45996881]\n",
      " [-0.30613013  0.2170322   0.25143781  0.51630346]\n",
      " [-0.04330619 -0.63803951 -0.26828177  0.46955239]\n",
      " [-0.07141482 -2.62265257  0.93818396  0.77425675]\n",
      " [-0.16532867  0.26327744  0.72661561 -0.70892675]\n",
      " [-0.4719526  -1.94903585 -0.5044447   0.32120144]\n",
      " [ 0.14853922  1.61078189 -0.74715821 -1.76224918]\n",
      " [ 2.06782255  0.41371429 -0.74694751  2.18918923]\n",
      " [ 0.49957377  0.10793237  0.5640172   0.66873691]]\n",
      "\n",
      "Just the values in 2nd column, as a 1D vector\n",
      "[ 0.44397117  1.2509142   0.25143781 -0.26828177  0.93818396  0.72661561\n",
      " -0.5044447  -0.74715821 -0.74694751  0.5640172 ]\n",
      "\n",
      "X[:,2] as a column vector, option 1:\n",
      "[[ 0.44397117]\n",
      " [ 1.2509142 ]\n",
      " [ 0.25143781]\n",
      " [-0.26828177]\n",
      " [ 0.93818396]\n",
      " [ 0.72661561]\n",
      " [-0.5044447 ]\n",
      " [-0.74715821]\n",
      " [-0.74694751]\n",
      " [ 0.5640172 ]]\n",
      "\n",
      "X[:,2] as a column vector, option 2a:\n",
      "[[ 0.44397117]\n",
      " [ 1.2509142 ]\n",
      " [ 0.25143781]\n",
      " [-0.26828177]\n",
      " [ 0.93818396]\n",
      " [ 0.72661561]\n",
      " [-0.5044447 ]\n",
      " [-0.74715821]\n",
      " [-0.74694751]\n",
      " [ 0.5640172 ]]\n",
      "\n",
      "X[:,2] as a column vector, option 2b:\n",
      "[[ 0.44397117]\n",
      " [ 1.2509142 ]\n",
      " [ 0.25143781]\n",
      " [-0.26828177]\n",
      " [ 0.93818396]\n",
      " [ 0.72661561]\n",
      " [-0.5044447 ]\n",
      " [-0.74715821]\n",
      " [-0.74694751]\n",
      " [ 0.5640172 ]]\n"
     ]
    }
   ],
   "source": [
    "# Create a 2D array of shape (10,4), print the array, and then print all values in the 2nd (index=2) column\n",
    "print(\"X:\")\n",
    "X_2d = np.random.randn(10,4)\n",
    "print(X_2d)\n",
    "# (the \\n is a formatting command that leaves an extra line!)\n",
    "print(\"\\nJust the values in 2nd column, as a 1D vector\")\n",
    "print(X_2d[:,2])\n",
    "# Note: to maintain shape of one column as a column vector:\n",
    "print(\"\\nX[:,2] as a column vector, option 1:\")\n",
    "print(X_2d[:,2:3])\n",
    "print(\"\\nX[:,2] as a column vector, option 2a:\")\n",
    "tmp = X_2d[:,2]\n",
    "print(tmp[:, np.newaxis])\n",
    "# Or you can combine these steps into one line:\n",
    "print(\"\\nX[:,2] as a column vector, option 2b:\")\n",
    "print(X_2d[:,2][:, np.newaxis])"
   ]
  },
  {
   "cell_type": "code",
   "execution_count": 21,
   "metadata": {},
   "outputs": [],
   "source": [
    "# What is the difference between the following two lines?\n",
    "A = X_2d[:4, 0]\n",
    "B = X_2d[:4, :1]\n",
    "# (see what A and B are. Why would this difference be useful?)"
   ]
  },
  {
   "cell_type": "markdown",
   "metadata": {},
   "source": [
    "The difference is dimensionality. For the line: \n",
    "\n",
    "```python\n",
    "A = X_2d[:4, 0]\n",
    "```\n",
    "... the resulting output is 1D \n",
    "\n",
    "for the line:\n",
    "```python\n",
    "B = X_2d[:4, :1]\n",
    "```\n",
    "\n",
    "... the second dimension is maintained. Both are vectors, but one vector has a second dimension to it - its shape is (4, 1) instead of just (4,) (with no second dimension at all). "
   ]
  },
  {
   "cell_type": "markdown",
   "metadata": {},
   "source": [
    "Make a design matrix! Last week, we created a single predictor of ones and zeros. Now, create a 2D array, in which each column is a predictor. \n",
    "\n",
    "Useful functions to combine arrays are: \n",
    "\n",
    "```python\n",
    "np.hstack()\n",
    "np.vstack()\n",
    "np.concatenate()\n",
    "```\n",
    "\n",
    "Look up the help for these functions to see what they do!\n",
    "```python\n",
    "np.hstack?\n",
    "```"
   ]
  },
  {
   "cell_type": "code",
   "execution_count": 22,
   "metadata": {},
   "outputs": [],
   "source": [
    "# Function to define indicator variable that we used last week: \n",
    "def define_indicator(n_timepoints, onsets, duration):\n",
    "    \"\"\"Defines an indicator variable given onsets and constant durations\n",
    "    \n",
    "    Parameters\n",
    "    ----------\n",
    "    n_timepoints : scalar, int\n",
    "        number of timepoints in timecourse of predictor\n",
    "    onsets : array-like \n",
    "        list or array of indices for onsets of conditions\n",
    "    duration : scalar\n",
    "        number of indices in timecourse for which conditions are \"on\"\n",
    "    \"\"\"\n",
    "    x = np.zeros(n_timepoints)\n",
    "    for on in onsets:\n",
    "        # Note that this was changed to += 1 instead of = 1 - what does that do??\n",
    "        x[on:on+duration] += 1\n",
    "    return x"
   ]
  },
  {
   "cell_type": "code",
   "execution_count": 23,
   "metadata": {},
   "outputs": [],
   "source": [
    "# Create a design matrix!\n",
    "# Define variables\n",
    "n_timepoints = 100\n",
    "onsets = [[10, 30, 38, 58, 82],\n",
    "          [18, 47, 68, 75, 90]]\n",
    "duration = 6\n",
    "\n",
    "iv1 = define_indicator(n_timepoints, onsets[0], duration)\n",
    "iv2 = define_indicator(n_timepoints, onsets[1], duration)\n",
    "X = np.hstack([iv1[:, np.newaxis], iv2[:, np.newaxis]])"
   ]
  },
  {
   "cell_type": "code",
   "execution_count": 24,
   "metadata": {},
   "outputs": [
    {
     "name": "stdout",
     "output_type": "stream",
     "text": [
      "(100, 2)\n"
     ]
    },
    {
     "data": {
      "image/png": "[encoded data removed]",
      "text/plain": [
       "<matplotlib.figure.Figure at 0x7f9126c4dfd0>"
      ]
     },
     "metadata": {},
     "output_type": "display_data"
    },
    {
     "data": {
      "image/png": "[encoded data removed]",
      "text/plain": [
       "<matplotlib.figure.Figure at 0x7f9126c546d8>"
      ]
     },
     "metadata": {},
     "output_type": "display_data"
    }
   ],
   "source": [
    "# Show design matrix!\n",
    "print(X.shape)\n",
    "plt.figure();\n",
    "plt.plot(X);\n",
    "plt.figure();\n",
    "# The extra keyword arguments here (aspect and interpolation) change defaults for imshow\n",
    "# Those defaults can be changed at the notebook level,too, with e.g. plt.rcParams['image.aspect'] = 'auto'\n",
    "plt.imshow(X, aspect='auto', interpolation='nearest');"
   ]
  },
  {
   "cell_type": "markdown",
   "metadata": {},
   "source": [
    "# Simple matrix multiplications\n",
    "Matrix multiplication is NOT the default for arrays (as it is in matlab). So if `A` and `B` are arrays, multiplying them with `*` will get you the *element-wise product*:"
   ]
  },
  {
   "cell_type": "code",
   "execution_count": 25,
   "metadata": {},
   "outputs": [
    {
     "name": "stdout",
     "output_type": "stream",
     "text": [
      "A\n",
      "[[1 3 3]\n",
      " [2 3 2]\n",
      " [2 1 0]\n",
      " [0 1 2]]\n",
      "B\n",
      "[[3 3 3]\n",
      " [3 2 2]\n",
      " [0 0 2]\n",
      " [0 3 0]]\n",
      "Element-wise product:\n",
      "[[3 9 9]\n",
      " [6 6 4]\n",
      " [0 0 0]\n",
      " [0 3 0]]\n"
     ]
    }
   ],
   "source": [
    "A = np.random.randint(0, 4, size=(4,3))\n",
    "B = np.random.randint(0, 4, size=(4,3))\n",
    "print('A')\n",
    "print(A)\n",
    "print('B')\n",
    "print(B)\n",
    "print('Element-wise product:')\n",
    "print(A*B)"
   ]
  },
  {
   "cell_type": "markdown",
   "metadata": {},
   "source": [
    "Note that there's a lot more complexity here in python - it's possible to multiply arrays of different sizes by \"broadcasting\", like this: "
   ]
  },
  {
   "cell_type": "code",
   "execution_count": 26,
   "metadata": {},
   "outputs": [
    {
     "name": "stdout",
     "output_type": "stream",
     "text": [
      "A\n",
      "[[2 0 3]]\n",
      "B\n",
      "[[2 2 2]\n",
      " [0 0 0]\n",
      " [2 2 1]\n",
      " [0 3 0]]\n",
      "Element-wise product:\n",
      "[[4 0 6]\n",
      " [0 0 0]\n",
      " [4 0 3]\n",
      " [0 0 0]]\n"
     ]
    }
   ],
   "source": [
    "A = np.random.randint(0, 4, size=(1,3))\n",
    "B = np.random.randint(0, 4, size=(4,3))\n",
    "print('A')\n",
    "print(A)\n",
    "print('B')\n",
    "print(B)\n",
    "print('Element-wise product:')\n",
    "print(A*B)"
   ]
  },
  {
   "cell_type": "markdown",
   "metadata": {},
   "source": [
    "... but the rows / columns have to match up - you have to be able to turn one array into the other array by simply replicating it a bunch of times in one dimension (no transpositions!)"
   ]
  },
  {
   "cell_type": "code",
   "execution_count": 27,
   "metadata": {},
   "outputs": [
    {
     "name": "stdout",
     "output_type": "stream",
     "text": [
      "A\n",
      "[[3]\n",
      " [0]\n",
      " [0]]\n",
      "B\n",
      "[[1 2 1]\n",
      " [0 1 0]\n",
      " [0 1 3]\n",
      " [2 2 3]]\n",
      "Element-wise product:\n"
     ]
    },
    {
     "ename": "ValueError",
     "evalue": "operands could not be broadcast together with shapes (4,3) (3,1) ",
     "output_type": "error",
     "traceback": [
      "\u001b[0;31m---------------------------------------------------------------------------\u001b[0m",
      "\u001b[0;31mValueError\u001b[0m                                Traceback (most recent call last)",
      "\u001b[0;32m<ipython-input-27-9a57050bb09f>\u001b[0m in \u001b[0;36m<module>\u001b[0;34m()\u001b[0m\n\u001b[1;32m      7\u001b[0m \u001b[0mprint\u001b[0m\u001b[0;34m(\u001b[0m\u001b[0mB\u001b[0m\u001b[0;34m)\u001b[0m\u001b[0;34m\u001b[0m\u001b[0m\n\u001b[1;32m      8\u001b[0m \u001b[0mprint\u001b[0m\u001b[0;34m(\u001b[0m\u001b[0;34m'Element-wise product:'\u001b[0m\u001b[0;34m)\u001b[0m\u001b[0;34m\u001b[0m\u001b[0m\n\u001b[0;32m----> 9\u001b[0;31m \u001b[0mprint\u001b[0m\u001b[0;34m(\u001b[0m\u001b[0mB\u001b[0m\u001b[0;34m*\u001b[0m\u001b[0mA\u001b[0m\u001b[0;34m)\u001b[0m\u001b[0;34m\u001b[0m\u001b[0m\n\u001b[0m",
      "\u001b[0;31mValueError\u001b[0m: operands could not be broadcast together with shapes (4,3) (3,1) "
     ]
    }
   ],
   "source": [
    "# This will fail, because an array of size (3,1) cannot be tiled out to size (4,3)\n",
    "A = np.random.randint(0, 4, size=(3,1))\n",
    "B = np.random.randint(0, 4, size=(4,3))\n",
    "print('A')\n",
    "print(A)\n",
    "print('B')\n",
    "print(B)\n",
    "print('Element-wise product:')\n",
    "print(B*A)"
   ]
  },
  {
   "cell_type": "markdown",
   "metadata": {
    "collapsed": true
   },
   "source": [
    "# BREAK FOR LOTS OF CHALKBOARD TALK"
   ]
  },
  {
   "cell_type": "markdown",
   "metadata": {},
   "source": [
    "Matrix multiplications are done using `np.dot()`, or,  equivalently, the .dot() method of arrays. \n",
    "\n",
    "The following is a python instantiation of the formula: \n",
    "\n",
    "# $A^TB$"
   ]
  },
  {
   "cell_type": "code",
   "execution_count": 28,
   "metadata": {},
   "outputs": [
    {
     "name": "stdout",
     "output_type": "stream",
     "text": [
      "[[0 3 2]\n",
      " [2 3 0]\n",
      " [3 0 3]\n",
      " [2 1 1]]\n",
      "\n",
      "[[1 3 1]\n",
      " [3 3 2]\n",
      " [1 3 2]\n",
      " [1 3 2]]\n",
      "\n",
      "[[11 21 14]\n",
      " [13 21 11]\n",
      " [ 6 18 10]]\n"
     ]
    }
   ],
   "source": [
    "# re-define A and B\n",
    "A = np.random.randint(0, 4, size=(4,3))\n",
    "B = np.random.randint(0, 4, size=(4,3))\n",
    "ATB = A.T.dot(B)\n",
    "print(A)\n",
    "print('')\n",
    "print(B)\n",
    "print('')\n",
    "print(ATB)"
   ]
  },
  {
   "cell_type": "markdown",
   "metadata": {},
   "source": [
    "Some convenient uses of matrix multiplication:"
   ]
  },
  {
   "cell_type": "code",
   "execution_count": 29,
   "metadata": {},
   "outputs": [
    {
     "name": "stdout",
     "output_type": "stream",
     "text": [
      "A\n",
      "[[4 4]\n",
      " [2 0]\n",
      " [1 2]\n",
      " [4 2]\n",
      " [2 3]]\n",
      "B\n",
      "[[0. 0. 1. 1. 0.]]\n",
      "Select by index and sum:\n",
      "[5 4]\n",
      "Sum by matrix multiplication:\n",
      "[[5. 4.]]\n"
     ]
    }
   ],
   "source": [
    "# Sum up the values of particular rows or columns of an array:\n",
    "A = np.random.randint(0, 5, size=(5,2))\n",
    "B = np.zeros((1,5))\n",
    "B[:, 2:4] = 1\n",
    "print('A')\n",
    "print(A)\n",
    "print('B')\n",
    "print(B)\n",
    "print('Select by index and sum:')\n",
    "print(np.sum(A[2:4,:], axis=0))\n",
    "print(('Sum by matrix multiplication:'))\n",
    "print(B.dot(A))"
   ]
  },
  {
   "cell_type": "code",
   "execution_count": 30,
   "metadata": {},
   "outputs": [
    {
     "name": "stdout",
     "output_type": "stream",
     "text": [
      "A\n",
      "[[2 3]\n",
      " [1 1]\n",
      " [1 4]\n",
      " [1 0]\n",
      " [1 4]]\n",
      "B\n",
      "[[-1. -1. -1.  1.  1.]]\n",
      "Select by index and sum:\n",
      "[-2 -4]\n",
      "Sum by matrix multiplication:\n",
      "[[-2. -4.]]\n"
     ]
    }
   ],
   "source": [
    "# Subtraction by matrix multiplication:\n",
    "# Subtract the sum of rows 1, 2, and 3 from the sum of rows 4 and 5\n",
    "A = np.random.randint(0, 5, size=(5,2))\n",
    "B = np.hstack([-1 * np.ones((1,3)), np.ones((1,2))])\n",
    "print('A')\n",
    "print(A)\n",
    "print('B')\n",
    "print(B)\n",
    "print('Select by index and sum:')\n",
    "print(np.sum(A[3:], axis=0) - np.sum(A[:3,:], axis=0))\n",
    "print(('Sum by matrix multiplication:'))\n",
    "print(B.dot(A))"
   ]
  },
  {
   "cell_type": "markdown",
   "metadata": {},
   "source": [
    "NOTE: This is how we can compute T contrasts for many voxels at once! Which we will do, later."
   ]
  },
  {
   "cell_type": "markdown",
   "metadata": {},
   "source": [
    "Side note: what is the identity matrix?"
   ]
  },
  {
   "cell_type": "code",
   "execution_count": 31,
   "metadata": {},
   "outputs": [
    {
     "name": "stdout",
     "output_type": "stream",
     "text": [
      "[[1. 0. 0. 0.]\n",
      " [0. 1. 0. 0.]\n",
      " [0. 0. 1. 0.]\n",
      " [0. 0. 0. 1.]]\n"
     ]
    }
   ],
   "source": [
    "I = np.eye(4)\n",
    "print(I)"
   ]
  },
  {
   "cell_type": "code",
   "execution_count": 32,
   "metadata": {},
   "outputs": [
    {
     "name": "stdout",
     "output_type": "stream",
     "text": [
      "A\n",
      "[[5. 8. 3. 2.]\n",
      " [2. 3. 3. 1.]\n",
      " [0. 3. 2. 3.]]\n",
      "A * I\n",
      "[[5. 8. 3. 2.]\n",
      " [2. 3. 3. 1.]\n",
      " [0. 3. 2. 3.]]\n"
     ]
    }
   ],
   "source": [
    "A = np.random.randint(0, 10, size=(3,4)).astype(np.float)\n",
    "print(\"A\")\n",
    "print(A)\n",
    "print('A * I')\n",
    "print(A.dot(I))"
   ]
  },
  {
   "cell_type": "markdown",
   "metadata": {},
   "source": [
    "Side note: what does inversion do?"
   ]
  },
  {
   "cell_type": "code",
   "execution_count": 33,
   "metadata": {},
   "outputs": [
    {
     "name": "stdout",
     "output_type": "stream",
     "text": [
      "(7, 3)\n",
      "(3, 3)\n",
      "[[ 1.00000000e+00 -4.07462583e-17 -5.89505961e-17]\n",
      " [-1.38312509e-17  1.00000000e+00 -1.45769567e-17]\n",
      " [ 8.34990171e-18  6.65070979e-18  1.00000000e+00]]\n"
     ]
    }
   ],
   "source": [
    "# Start with a random array\n",
    "Q = np.random.randn(7,3)\n",
    "print(Q.shape)\n",
    "# Multiply the array by its transpose to make it a square array\n",
    "qtq = Q.T.dot(Q)\n",
    "print(qtq.shape)\n",
    "# This gives\n",
    "nearly_i = np.linalg.inv(qtq).dot(qtq)\n",
    "print(nearly_i)"
   ]
  },
  {
   "cell_type": "markdown",
   "metadata": {},
   "source": [
    "Note that those `e-17` values mean (something) x $10^{-17}$, which is very close to zero!"
   ]
  },
  {
   "cell_type": "markdown",
   "metadata": {
    "collapsed": true
   },
   "source": [
    "# Generate data! \n",
    "Our model for fMRI data is that $Y = X\\beta + \\epsilon$, right? \n",
    "\n",
    "So, from the X you already have, specify some $\\beta$ weights, some noise, and generate a Y!"
   ]
  },
  {
   "cell_type": "markdown",
   "metadata": {},
   "source": [
    "Aside! the `*` syntax allows you to send multiple arguments into a function via a tuple or list. Here's an example:"
   ]
  },
  {
   "cell_type": "code",
   "execution_count": 34,
   "metadata": {},
   "outputs": [
    {
     "name": "stdout",
     "output_type": "stream",
     "text": [
      "3\n",
      "7\n"
     ]
    }
   ],
   "source": [
    "def my_fun(a, b):\n",
    "    \"\"\"A dirt simple function to add two numbers\"\"\"\n",
    "    return a + b\n",
    "\n",
    "# Standard call\n",
    "print(my_fun(1, 2))\n",
    "\n",
    "# Call with fancy * syntax\n",
    "my_inputs = (3, 4)\n",
    "print(my_fun(*my_inputs))\n",
    "\n",
    "# This works a little bit like varargin in matlab, if you are familiar with that. \n",
    "# If you are not familiar with varargin, never mind!"
   ]
  },
  {
   "cell_type": "code",
   "execution_count": 35,
   "metadata": {},
   "outputs": [],
   "source": [
    "# Create Y\n",
    "# (1) Define arbitrary B values\n",
    "B = np.array([[3],[4]])\n",
    "# (2) Multiply X by beta values\n",
    "Y = X.dot(B)\n",
    "# (3) Add noise!\n",
    "E = np.random.randn(*Y.shape)\n",
    "Y = Y + E"
   ]
  },
  {
   "cell_type": "code",
   "execution_count": 36,
   "metadata": {},
   "outputs": [
    {
     "data": {
      "image/png": "[encoded data removed]",
      "text/plain": [
       "<matplotlib.figure.Figure at 0x7f9126bedbe0>"
      ]
     },
     "metadata": {},
     "output_type": "display_data"
    }
   ],
   "source": [
    "# Show the data you generated!\n",
    "plt.plot(Y);"
   ]
  },
  {
   "cell_type": "markdown",
   "metadata": {},
   "source": [
    "# Fit the data! \n",
    "\n",
    "The equation to estimate $\\beta$ weights from data ($Y$) and a design matrix ($X$) is:\n",
    "\n",
    "## $\\beta = (X^TX)^{-1}X^TY$\n",
    "\n",
    "So, let's do that in python! You already have X and Y, the only thing you need to know is how to invert a matrix. You can use: \n",
    "\n",
    "```python\n",
    "np.linalg.inv()\n",
    "```\n",
    "to do this!\n",
    "\n",
    "Not as complicated as it sounds, at this point! Give it a try!\n"
   ]
  },
  {
   "cell_type": "code",
   "execution_count": 37,
   "metadata": {},
   "outputs": [],
   "source": [
    "# To put that formula into python:\n",
    "B_est = np.linalg.inv(X.T.dot(X)).dot(X.T.dot(Y))"
   ]
  },
  {
   "cell_type": "code",
   "execution_count": 38,
   "metadata": {},
   "outputs": [
    {
     "data": {
      "text/plain": [
       "array([[2.86307505],\n",
       "       [3.82396749]])"
      ]
     },
     "execution_count": 38,
     "metadata": {},
     "output_type": "execute_result"
    }
   ],
   "source": [
    "# This is NEARLY the values we specified (3,4)\n",
    "B_est"
   ]
  },
  {
   "cell_type": "markdown",
   "metadata": {},
   "source": [
    "# For the extra exercise:\n",
    "i.e., for many Y values rather than 1: think about how, in python, you should compare the estimated beta values to the true beta values."
   ]
  },
  {
   "cell_type": "markdown",
   "metadata": {},
   "source": [
    "### Visualize what you have just modeled! "
   ]
  },
  {
   "cell_type": "code",
   "execution_count": 39,
   "metadata": {},
   "outputs": [
    {
     "data": {
      "image/png": "[encoded data removed]",
      "text/plain": [
       "<matplotlib.figure.Figure at 0x7f9124b41eb8>"
      ]
     },
     "metadata": {},
     "output_type": "display_data"
    }
   ],
   "source": [
    "# This should give you back the signal you started with, minus the noise (which you can never estimate)\n",
    "Y_est = X.dot(B_est)\n",
    "plt.plot(Y, label='Simulated data')\n",
    "plt.plot(Y_est, label='Model fit')\n",
    "plt.legend();"
   ]
  },
  {
   "cell_type": "markdown",
   "metadata": {},
   "source": [
    "# Useful exercises\n",
    "Not homework, because not for credit, but useful..."
   ]
  },
  {
   "cell_type": "markdown",
   "metadata": {},
   "source": [
    "> Generate a MANY Y values by specifying the SAME X, and more B values (the shape of B should be  (n_conditions x n_voxels) - bump up the value of n_voxels! The SAME MULTIPLICATION SHOULD WORK!\n",
    "\n",
    "Hint: Start with only a few (say ~10) before you try moving up to 100, 1000, or more!"
   ]
  },
  {
   "cell_type": "code",
   "execution_count": 40,
   "metadata": {},
   "outputs": [
    {
     "ename": "TypeError",
     "evalue": "unsupported operand type(s) for *: 'float' and 'ellipsis'",
     "output_type": "error",
     "traceback": [
      "\u001b[0;31m---------------------------------------------------------------------------\u001b[0m",
      "\u001b[0;31mTypeError\u001b[0m                                 Traceback (most recent call last)",
      "\u001b[0;32m<ipython-input-40-73ff72f16fd2>\u001b[0m in \u001b[0;36m<module>\u001b[0;34m()\u001b[0m\n\u001b[1;32m      4\u001b[0m \u001b[0mE2\u001b[0m \u001b[0;34m=\u001b[0m \u001b[0mnp\u001b[0m\u001b[0;34m.\u001b[0m\u001b[0mrandom\u001b[0m\u001b[0;34m.\u001b[0m\u001b[0mrandn\u001b[0m\u001b[0;34m(\u001b[0m\u001b[0;34m)\u001b[0m\u001b[0;34m\u001b[0m\u001b[0m\n\u001b[1;32m      5\u001b[0m \u001b[0;31m# Same multiplication\u001b[0m\u001b[0;34m\u001b[0m\u001b[0;34m\u001b[0m\u001b[0m\n\u001b[0;32m----> 6\u001b[0;31m \u001b[0mY2\u001b[0m \u001b[0;34m=\u001b[0m \u001b[0mX\u001b[0m\u001b[0;34m.\u001b[0m\u001b[0mdot\u001b[0m\u001b[0;34m(\u001b[0m\u001b[0mB2\u001b[0m\u001b[0;34m)\u001b[0m \u001b[0;34m+\u001b[0m \u001b[0mE2\u001b[0m\u001b[0;34m\u001b[0m\u001b[0m\n\u001b[0m\u001b[1;32m      7\u001b[0m \u001b[0;31m# visualize Y (maybe as an image, instead of as a line plot (i.e. using imshow))\u001b[0m\u001b[0;34m\u001b[0m\u001b[0;34m\u001b[0m\u001b[0m\n\u001b[1;32m      8\u001b[0m \u001b[0mplt\u001b[0m\u001b[0;34m.\u001b[0m\u001b[0mimshow\u001b[0m\u001b[0;34m(\u001b[0m\u001b[0mY2\u001b[0m\u001b[0;34m,\u001b[0m \u001b[0maspect\u001b[0m\u001b[0;34m=\u001b[0m\u001b[0;34m'auto'\u001b[0m\u001b[0;34m,\u001b[0m \u001b[0minterpolation\u001b[0m\u001b[0;34m=\u001b[0m\u001b[0;34m'nearest'\u001b[0m\u001b[0;34m)\u001b[0m\u001b[0;34m\u001b[0m\u001b[0m\n",
      "\u001b[0;31mTypeError\u001b[0m: unsupported operand type(s) for *: 'float' and 'ellipsis'"
     ]
    }
   ],
   "source": [
    "# Change B...\n",
    "B2 = ... # FILL ME IN!\n",
    "# Define noise\n",
    "E2 = np.random.randn()\n",
    "# Same multiplication\n",
    "Y2 = X.dot(B2) + E2\n",
    "# visualize Y (maybe as an image, instead of as a line plot (i.e. using imshow))\n",
    "plt.imshow(Y2, aspect='auto', interpolation='nearest')"
   ]
  },
  {
   "cell_type": "markdown",
   "metadata": {},
   "source": [
    "> Generate a new X by adding a column of ones to the left side of your original X. Generate a new, different set of beta values for this X. Add a few more columns of indicator variables, just for fun! Then generate betas and data in the same way as above."
   ]
  },
  {
   "cell_type": "code",
   "execution_count": 41,
   "metadata": {},
   "outputs": [],
   "source": [
    "# Same as above, but more so...\n",
    "X = ...\n",
    "B = ...\n",
    "E = ..."
   ]
  },
  {
   "cell_type": "markdown",
   "metadata": {},
   "source": [
    "> Create a design matrix with only two columns, and ENTIRELY RANDOM (Gaussian-distributed) $\\beta$ weights for 100,000 voxels. That is, one beta weight should NOT be reliably larger than the other. Add noise, estimate your beta weights, and "
   ]
  },
  {
   "cell_type": "markdown",
   "metadata": {},
   "source": [
    "# Multiple comparisons demo\n",
    "From here down is a demonstration of the multiple comparisons problem that we talked about in class. Don't worry if you don't understand all the code; look at the figures, try to absorb what the code is doing. "
   ]
  },
  {
   "cell_type": "code",
   "execution_count": 42,
   "metadata": {},
   "outputs": [],
   "source": [
    "# Create a design matrix \n",
    "n_timepoints = 100\n",
    "onsets = [[10, 30, 38, 58, 82],\n",
    "          [18, 47, 68, 75, 90]]\n",
    "duration = 6\n",
    "iv1 = define_indicator(n_timepoints, onsets[0], duration)\n",
    "iv2 = define_indicator(n_timepoints, onsets[1], duration)\n",
    "X = np.hstack([iv1[:, np.newaxis], iv2[:, np.newaxis]])\n",
    "\n",
    "# Simulate voxel response\n",
    "n_voxels = 100000\n",
    "b_magnitude = 0 # NO real signal due to betas!\n",
    "noise_magnitude = 3\n",
    "# (true) Beta weights (all zeros, because b_magnitude is zero!)\n",
    "B = np.ones((2, n_voxels)) * b_magnitude\n",
    "# Noise\n",
    "E = np.random.randn(n_timepoints, n_voxels) * noise_magnitude\n",
    "Y = X.dot(B) + E\n",
    "# Estimate beta\n",
    "B_est = np.linalg.inv(X.T.dot(X)).dot(X.T.dot(Y))"
   ]
  },
  {
   "cell_type": "markdown",
   "metadata": {},
   "source": [
    "# $t$ contrasts between $\\beta$ values\n",
    "The function in the next cell computes $t$ values for contrasts between $\\beta$ weights from the regression. The formula for this type of $t$ statistic is: \n",
    "\n",
    "## $t = \\frac{c^T \\hat\\beta}{\\sqrt{\\hat{\\sigma}^2 c (X^T X)^+c^T}}$\n",
    "    \n",
    "where $\\hat{\\sigma}^2$ is the estimate of variance in the residuals: \n",
    "    \n",
    "## $\\hat{\\sigma}^2 = \\sum_{i=1}^n (\\hat{y}_i - y_i)^2$\n",
    "\n",
    "... $\\hat{y}_i$ is a single time value of $\\hat{Y}$, which is: \n",
    "\n",
    "## $\\hat{Y} = X^T\\hat{\\beta}$\n",
    "\n",
    "... and $(X^T X)^+$ is the Penrose pseudo-inverse of $X^T X$ (think of it as $(X^TX)^{-1}$).\n"
   ]
  },
  {
   "cell_type": "code",
   "execution_count": 50,
   "metadata": {},
   "outputs": [],
   "source": [
    "from scipy import stats\n",
    "\n",
    "def t2pval(t, dof, is_two_sided=False):\n",
    "    \"\"\"Convert t value to p value give degrees of freedom (dof)\"\"\"\n",
    "    if is_two_sided:\n",
    "        t = np.abs(t) # use |t| for two sided P-value\n",
    "        p = 2 * (1 - stats.t.cdf(t, dof))\n",
    "    else:\n",
    "        p = 2 * (1 - stats.t.cdf(t, dof)) / 2 # divde by two for one-tailed test\n",
    "    return p\n",
    "\n",
    "def t_contrast(B, C, X, Y, is_two_sided_p=True):\n",
    "    \"\"\"Compute t contrast for a set of weights\n",
    "\n",
    "    Only (?) appropriate for weights fit using OLS regression.\n",
    "\n",
    "    Largely borrowed from M. Brett's course on practical fMRI, http://perrin.dynevor.org/glm_intro.html\n",
    "    Parameters\n",
    "    ----------\n",
    "    B : array-like\n",
    "        weight matrix, features x voxels\n",
    "    C : array-like\n",
    "        Contrast vector (often 1s, 0s, -1s), as long as total number of weights\n",
    "    X : array-like \n",
    "        Stimulus matrix\n",
    "    Y : array-like\n",
    "        data that were originally fit\n",
    "\n",
    "    Returns\n",
    "    -------\n",
    "    t : array-like\n",
    "        t statistic\n",
    "\n",
    "    Notes\n",
    "    -----\n",
    "    $t = \\frac{c^T \\hat\\beta}{\\sqrt{\\hat{\\sigma}^2 c (X^T X)^+c^T}}$\n",
    "    \n",
    "    where $\\hat{\\sigma}^2$ is the estimate of variance in the residuals: \n",
    "    \n",
    "    $\\hat{\\sigma}^2 = \\sum_{i=1}^n (\\hat{y}_i - y_i)^2$\n",
    "    $\\hat{Y} = X^T\\hat{\\beta}$\n",
    "    \n",
    "    and $(X^T X)^+$ is the Penrose pseudo-inverse of $X^T X$ (think of it as $(X^TX)^{-1}$.\n",
    "\n",
    "    This is all based on OLS estimation; we assume the errors to have independent\n",
    "    and identical normal distributions around zero for each $i$ in $\\epsilon_i$ (i.i.d).\n",
    "    \"\"\"\n",
    "    # Make sure X, Y, C are all arrays\n",
    "    B = np.asarray(B)\n",
    "    X = np.asarray(X)\n",
    "    C = np.atleast_2d(C)\n",
    "    Y = np.asarray(Y)\n",
    "    # The fitted values - this may be an expensive step, depending on how big B is\n",
    "    Y_est = X.dot(B)\n",
    "    # Residual sum of squares\n",
    "    RSS   = ((Y - Y_est)**2).sum(axis=0)\n",
    "    # Degrees for freedom is the number of observations n minus the number\n",
    "    # of independent regressors we have used.  If all the regressor columns\n",
    "    # in X are independent then the (matrix rank of X) == p,\n",
    "    # where p the number of columns in X. If there is one column that can\n",
    "    # expressed as a linear sum of the other columns then (matrix rank of X)\n",
    "    # will be p - 1 - and so on.\n",
    "    df =  X.shape[0] - np.linalg.matrix_rank(X)\n",
    "    # Mean residual sum of squares\n",
    "    MRSS  = RSS / df\n",
    "    # Calculate bottom half of t statistic\n",
    "    SE    = np.sqrt(MRSS * C.dot(np.linalg.pinv(X.T.dot(X)).dot(C.T)))\n",
    "    t     = C.dot(B)/SE\n",
    "    p = t2pval(t, df, is_two_sided=is_two_sided_p)\n",
    "    return t, df, p"
   ]
  },
  {
   "cell_type": "code",
   "execution_count": 51,
   "metadata": {},
   "outputs": [],
   "source": [
    "# Compute T contrast. \n",
    "t, df, p = t_contrast(B_est, [-1,1], X, Y)"
   ]
  },
  {
   "cell_type": "code",
   "execution_count": 52,
   "metadata": {},
   "outputs": [
    {
     "data": {
      "image/png": "[encoded data removed]",
      "text/plain": [
       "<matplotlib.figure.Figure at 0x7f9113859860>"
      ]
     },
     "metadata": {},
     "output_type": "display_data"
    }
   ],
   "source": [
    "# Show the distribution of t values\n",
    "p_thr = 0.05 # for funzies\n",
    "plt.hist(t.flatten(), bins=100)\n",
    "t_thr = np.min(np.abs(t[p < p_thr])) # select minimum absolute t value for p < 0.05\n",
    "ylim = plt.ylim() # get Y limits\n",
    "# Show where t values exceed threshold (where p < 0.05 in this distribution)\n",
    "plt.vlines([-t_thr, t_thr], *ylim, linestyle='--')\n",
    "plt.ylim(ylim);"
   ]
  },
  {
   "cell_type": "code",
   "execution_count": 53,
   "metadata": {},
   "outputs": [
    {
     "name": "stdout",
     "output_type": "stream",
     "text": [
      "5061\n",
      "5000.0\n"
     ]
    }
   ],
   "source": [
    "# Suspiciously, the number of p values that are \"significant\" at < 0.05...\n",
    "p_thr = 0.05\n",
    "print(np.sum(p < p_thr))\n",
    "# Matches very closely with 0.05 * the number of voxels we simulated!\n",
    "print(p_thr * n_voxels)"
   ]
  },
  {
   "cell_type": "markdown",
   "metadata": {},
   "source": [
    "This is why we need to adjust our p thresholds when computing multiple comparisons! "
   ]
  },
  {
   "cell_type": "code",
   "execution_count": null,
   "metadata": {},
   "outputs": [],
   "source": []
  }
 ],
 "metadata": {
  "kernelspec": {
   "display_name": "Python 3",
   "language": "python",
   "name": "python3"
  },
  "language_info": {
   "codemirror_mode": {
    "name": "ipython",
    "version": 3
   },
   "file_extension": ".py",
   "mimetype": "text/x-python",
   "name": "python",
   "nbconvert_exporter": "python",
   "pygments_lexer": "ipython3",
   "version": "3.5.2"
  }
 },
 "nbformat": 4,
 "nbformat_minor": 1
}
