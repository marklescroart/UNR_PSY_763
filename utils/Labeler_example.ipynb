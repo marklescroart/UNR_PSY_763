{
 "cells": [
  {
   "cell_type": "markdown",
   "metadata": {},
   "source": [
    "# Demo of how to label images \n",
    "\n",
    "This notebook provides code for labeling features in the Lotus Hill images experiment (called \"color_natims\") which is provided as example data in the folder `/unrshare/LESCROARTSHARE/IntroToEncodingModels/` on each of your cloud instances. The recommended workflow to label your own features is to ***COPY THIS NOTEBOOK*** to a new notebook, move that notebook to the `FinalProjects/` folder, and work there. You can run through the copied notebook to see how the labeler works, and then modify the code as appropriate for your own purposes. So long as you have ***MADE A COPY***, you will always have the original notebook to look back on if you mess something up. \n",
    "\n",
    "If you use the labeler to generate a design matrix for a regression analysis in your final project, you should END this notebook with the generation of that design matrix, save it, and load it in another notebook that contains your final project analyses. "
   ]
  },
  {
   "cell_type": "code",
   "execution_count": null,
   "metadata": {},
   "outputs": [],
   "source": [
    "import matplotlib.pyplot as plt\n",
    "import numpy as np\n",
    "import json\n",
    "import os\n",
    "\n",
    "from labeler import ImageTagger\n",
    "\n",
    "%matplotlib inline"
   ]
  },
  {
   "cell_type": "code",
   "execution_count": null,
   "metadata": {},
   "outputs": [],
   "source": [
    "tag_specs = dict()\n",
    "tag_specs['outdoors'] = ['outdoors', 'indoors', 'under water', 'unclear', 'not a scene', 'untagged']                   \n",
    "tag_specs['evoked_emotion'] = ['Anger', 'Disgust', 'Fear', 'Happiness', 'Sadness', 'Surprise', 'Neutral', 'untagged']\n",
    "tag_specs['reward'] = ['0', '1', '2', '3', '4', 'untagged']\n",
    "tag_specs['curves_vs_lines'] = ['curved', 'mix', 'lines', 'untagged']"
   ]
  },
  {
   "cell_type": "markdown",
   "metadata": {},
   "source": [
    "# Example of how to specify which features to tag"
   ]
  },
  {
   "cell_type": "code",
   "execution_count": null,
   "metadata": {},
   "outputs": [],
   "source": [
    "# These are the LEVELS of the feature you wish to tag.\n",
    "# NOTE: 'untagged' must be present in your list of features!\n",
    "distance_features = ['<2 ft', \n",
    "                   \"<4 ft (arm's length)\", \n",
    "                   '<20 ft (same room)', \n",
    "                   '< 100 ft', \n",
    "                   '> 100 ft', \n",
    "                   'untagged']\n",
    "# The input to the labeler is a dictionary, with each KEY in the dict being a model title, and\n",
    "# the VALUES in the dict being the levels of feature labeled for that model.\n",
    "# Note that you can label features for more than one model at a time with the labeler!\n",
    "tag_dict = dict(\n",
    "    distance = distance_features,\n",
    "    # More features here... e.g. semantic_category = category_features,\n",
    "    )\n",
    "# Specify which features in dictionary to label\n",
    "feature_classes = ('distance',) # add model titles for multiple models here\n",
    "# Specify which features to label\n",
    "label_range = range(0, 1386, 1) # By default, use the full range (1260 est + 126 val = 1386 total)\n",
    "# Specify file name in which to store labels\n",
    "tag_file = 'demo_labels.json' # Change this for your specific model!"
   ]
  },
  {
   "cell_type": "code",
   "execution_count": null,
   "metadata": {},
   "outputs": [],
   "source": [
    "# Create tagging widget\n",
    "image_tagger = ImageTagger(tag_dict, \n",
    "                                   my_feature=feature_classes, \n",
    "                                   tag_range=label_range, \n",
    "                                   tag_filename=tag_file)"
   ]
  },
  {
   "cell_type": "markdown",
   "metadata": {},
   "source": [
    "# Perform feature tagging!"
   ]
  },
  {
   "cell_type": "markdown",
   "metadata": {},
   "source": [
    "You can save your tags partway through using the \"save\" button. If you start the same labeler again (with the same \"tag_file\" input), you will pick up where you left off the next time. This is recommended even if you plan on leaving the notebook running... just in case."
   ]
  },
  {
   "cell_type": "code",
   "execution_count": null,
   "metadata": {},
   "outputs": [],
   "source": [
    "# This code displays the widget created in the cell above\n",
    "image_tagger"
   ]
  },
  {
   "cell_type": "markdown",
   "metadata": {},
   "source": [
    "# Load feature labels & convert to an X array"
   ]
  },
  {
   "cell_type": "code",
   "execution_count": null,
   "metadata": {},
   "outputs": [],
   "source": [
    "# Load labeled features\n",
    "features = json.load(open(tag_file))"
   ]
  },
  {
   "cell_type": "code",
   "execution_count": null,
   "metadata": {},
   "outputs": [],
   "source": [
    "# Convert \n",
    "feature_names = tag_dict['distance']\n",
    "feature_labels = features['tag_specs']['distance']\n",
    "n_images = len(feature_labels)\n",
    "n_features = len(feature_names)\n",
    "X = np.zeros((n_images, n_features))\n",
    "for i, this_label in enumerate(feature_labels):\n",
    "    j = feature_names.index(this_label)\n",
    "    X[i, j] = 1.0"
   ]
  },
  {
   "cell_type": "code",
   "execution_count": null,
   "metadata": {},
   "outputs": [],
   "source": [
    "# Visualize X array\n",
    "plt.imshow(cond_numbers[:300].T, aspect='auto')"
   ]
  },
  {
   "cell_type": "markdown",
   "metadata": {},
   "source": [
    "Note that the X array created here is a concatenation of both model estimation and model validation stimuli, and that it still includes a feature for \"untagged\". So a little slicing and dicing of this variable (i.e., indexing) is going to be required to isolate the parts of X that are appropriate to use for modeling. \n",
    "\n",
    "There are a few other class notebooks that you can use as examples of how to perform the appropriate regression analysis for your final project. Once again, please do NOT just add on to this notebook. You should create a new notebook from scratch. Put it in the FinalNotebooks/ folder in the class directory, and title it `<lastname_firstname>_PSY763_FinalProject.ipynb`. Among the first things you should do in that notebook is load the design matrix you generate here. \n"
   ]
  },
  {
   "cell_type": "code",
   "execution_count": null,
   "metadata": {},
   "outputs": [],
   "source": []
  }
 ],
 "metadata": {
  "kernelspec": {
   "display_name": "Python 3",
   "language": "python",
   "name": "python3"
  },
  "language_info": {
   "codemirror_mode": {
    "name": "ipython",
    "version": 3
   },
   "file_extension": ".py",
   "mimetype": "text/x-python",
   "name": "python",
   "nbconvert_exporter": "python",
   "pygments_lexer": "ipython3",
   "version": "3.5.2"
  }
 },
 "nbformat": 4,
 "nbformat_minor": 2
}
