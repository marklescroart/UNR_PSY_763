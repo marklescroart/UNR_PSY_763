{
 "cells": [
  {
   "cell_type": "markdown",
   "metadata": {},
   "source": [
    "# Generation of data that is affected by multiple sources\n",
    "\n",
    "Last week, we did a basic introduction to python and jupyter notebooks, as well as some plots of different types of relationships. That is, we dabbled in data generation. This week, we will create variables representing events in the world, and use them to generate data that is related to those events."
   ]
  },
  {
   "cell_type": "code",
   "execution_count": 1,
   "metadata": {
    "collapsed": true
   },
   "outputs": [],
   "source": [
    "import numpy as np\n",
    "import matplotlib.pyplot as plt\n",
    "%matplotlib inline"
   ]
  },
  {
   "cell_type": "markdown",
   "metadata": {},
   "source": [
    "To create an *indicator* or *categorical* variable, one generally uses a vector (an array) of zeros, with ones to indicate events, conditions, or whatever needs to be *indicated*."
   ]
  },
  {
   "cell_type": "code",
   "execution_count": 2,
   "metadata": {},
   "outputs": [
    {
     "data": {
      "text/plain": [
       "[<matplotlib.lines.Line2D at 0x7efe1cd9aeb8>]"
      ]
     },
     "execution_count": 2,
     "metadata": {},
     "output_type": "execute_result"
    },
    {
     "data": {
      "image/png": "[encoded data removed]",
      "text/plain": [
       "<matplotlib.figure.Figure at 0x7efe1ee54780>"
      ]
     },
     "metadata": {},
     "output_type": "display_data"
    }
   ],
   "source": [
    "n_timepoints = 100\n",
    "onsets = [5, 13, 26]\n",
    "duration = 6 # timepoints, unclear what unit\n",
    "x = np.zeros(n_timepoints)\n",
    "for on in onsets:\n",
    "    x[on:on+duration] = 1\n",
    "plt.plot(x)"
   ]
  },
  {
   "cell_type": "code",
   "execution_count": 3,
   "metadata": {
    "collapsed": true
   },
   "outputs": [],
   "source": [
    "def define_indicator(n_timepoints, onsets, duration):\n",
    "    x = np.zeros(n_timepoints)\n",
    "    for on in onsets:\n",
    "        x[on:on+duration] = 1\n",
    "    return x"
   ]
  },
  {
   "cell_type": "code",
   "execution_count": 4,
   "metadata": {},
   "outputs": [
    {
     "data": {
      "text/plain": [
       "100"
      ]
     },
     "execution_count": 4,
     "metadata": {},
     "output_type": "execute_result"
    }
   ],
   "source": [
    "n_timepoints"
   ]
  },
  {
   "cell_type": "code",
   "execution_count": 5,
   "metadata": {},
   "outputs": [
    {
     "data": {
      "text/plain": [
       "[<matplotlib.lines.Line2D at 0x7efe1cd944a8>]"
      ]
     },
     "execution_count": 5,
     "metadata": {},
     "output_type": "execute_result"
    },
    {
     "data": {
      "image/png": "[encoded data removed]",
      "text/plain": [
       "<matplotlib.figure.Figure at 0x7efe1ee54470>"
      ]
     },
     "metadata": {},
     "output_type": "display_data"
    }
   ],
   "source": [
    "duration = 2\n",
    "Xwow = define_indicator(n_timepoints, onsets, duration)\n",
    "plt.plot(Xwow)"
   ]
  },
  {
   "cell_type": "code",
   "execution_count": 6,
   "metadata": {},
   "outputs": [
    {
     "data": {
      "text/plain": [
       "[1, 2, 3, 1, 2, 3, 1, 2, 3]"
      ]
     },
     "execution_count": 6,
     "metadata": {},
     "output_type": "execute_result"
    }
   ],
   "source": [
    "[1,2,3] * 3"
   ]
  },
  {
   "cell_type": "code",
   "execution_count": 8,
   "metadata": {},
   "outputs": [
    {
     "data": {
      "text/plain": [
       "array([3, 6, 9])"
      ]
     },
     "execution_count": 8,
     "metadata": {},
     "output_type": "execute_result"
    }
   ],
   "source": [
    "np.array([1,2,3]) * 3"
   ]
  },
  {
   "cell_type": "code",
   "execution_count": 10,
   "metadata": {},
   "outputs": [
    {
     "name": "stdout",
     "output_type": "stream",
     "text": [
      "my\n",
      ".\n",
      "name\n",
      ".\n",
      "is\n",
      ".\n",
      "mark\n",
      ".\n"
     ]
    }
   ],
   "source": [
    "my_strings = ['my','name','is','mark']\n",
    "for yo in my_strings:\n",
    "    print(yo)\n",
    "    print('.')"
   ]
  },
  {
   "cell_type": "code",
   "execution_count": 7,
   "metadata": {},
   "outputs": [
    {
     "name": "stdout",
     "output_type": "stream",
     "text": [
      "0.0\n",
      "0.5263157894736842\n",
      "1.0526315789473684\n",
      "1.5789473684210527\n",
      "2.1052631578947367\n",
      "2.631578947368421\n",
      "3.1578947368421053\n",
      "3.6842105263157894\n",
      "4.2105263157894735\n",
      "4.7368421052631575\n",
      "5.263157894736842\n",
      "5.789473684210526\n",
      "6.315789473684211\n",
      "6.842105263157895\n",
      "7.368421052631579\n",
      "7.894736842105263\n",
      "8.421052631578947\n",
      "8.947368421052632\n",
      "9.473684210526315\n",
      "10.0\n"
     ]
    }
   ],
   "source": [
    "for x in np.linspace(0,10,20):\n",
    "    print(x)"
   ]
  },
  {
   "cell_type": "code",
   "execution_count": 8,
   "metadata": {},
   "outputs": [
    {
     "name": "stdout",
     "output_type": "stream",
     "text": [
      "0\n",
      "2\n",
      "4\n",
      "6\n",
      "8\n"
     ]
    }
   ],
   "source": [
    "for x in np.arange(0,10,2):\n",
    "    print(x)"
   ]
  },
  {
   "cell_type": "code",
   "execution_count": 9,
   "metadata": {},
   "outputs": [
    {
     "name": "stdout",
     "output_type": "stream",
     "text": [
      "1\n",
      "4\n",
      "9\n"
     ]
    }
   ],
   "source": [
    "for x in [1,2,3]:\n",
    "    print(x**2)"
   ]
  },
  {
   "cell_type": "markdown",
   "metadata": {},
   "source": [
    "Now, we need to set a range of x values equal to one. "
   ]
  },
  {
   "cell_type": "code",
   "execution_count": 11,
   "metadata": {},
   "outputs": [
    {
     "data": {
      "image/png": "[encoded data removed]",
      "text/plain": [
       "<matplotlib.figure.Figure at 0x7efe1cd865f8>"
      ]
     },
     "metadata": {},
     "output_type": "display_data"
    }
   ],
   "source": [
    "# Do this by indexing into the array:\n",
    "x_categorical = np.zeros((100,))\n",
    "x_categorical[10:20] = 1\n",
    "plt.plot(x_categorical);"
   ]
  },
  {
   "cell_type": "markdown",
   "metadata": {},
   "source": [
    "# Silly in-class example: Generate random ordering of class "
   ]
  },
  {
   "cell_type": "code",
   "execution_count": 12,
   "metadata": {
    "collapsed": true
   },
   "outputs": [],
   "source": [
    "class_list = ['Ana Chkhaidze', \n",
    "              'Michael Compton', \n",
    "              'Kara Emery', \n",
    "              'Grant Fairchild', \n",
    "              'Yi Gao', \n",
    "              'Michael Gomez', \n",
    "              'Matt Harrison', \n",
    "              'Desiree Holler', 'Ivana Ilic', 'Jung Min Kim', 'Taissa Lytchenko', 'Stephanie Otto', 'Carissa Romero', \n",
    "              'Alexandra Scurry', \n",
    "              'Joe Z']"
   ]
  },
  {
   "cell_type": "code",
   "execution_count": 13,
   "metadata": {
    "collapsed": true
   },
   "outputs": [],
   "source": [
    "idx = np.random.permutation(15)"
   ]
  },
  {
   "cell_type": "code",
   "execution_count": 14,
   "metadata": {},
   "outputs": [
    {
     "name": "stdout",
     "output_type": "stream",
     "text": [
      "Jung Min Kim\n",
      "Kara Emery\n",
      "Stephanie Otto\n",
      "Yi Gao\n",
      "Carissa Romero\n",
      "Ana Chkhaidze\n",
      "Alexandra Scurry\n",
      "Ivana Ilic\n",
      "Matt Harrison\n",
      "Taissa Lytchenko\n",
      "Joe Z\n",
      "Grant Fairchild\n",
      "Michael Gomez\n",
      "Michael Compton\n",
      "Desiree Holler\n"
     ]
    }
   ],
   "source": [
    "for ii in idx:\n",
    "    print(class_list[ii])"
   ]
  },
  {
   "cell_type": "code",
   "execution_count": null,
   "metadata": {
    "collapsed": true
   },
   "outputs": [],
   "source": []
  }
 ],
 "metadata": {
  "anaconda-cloud": {},
  "kernelspec": {
   "display_name": "Python 2",
   "language": "python",
   "name": "python2"
  },
  "language_info": {
   "codemirror_mode": {
    "name": "ipython",
    "version": 2
   },
   "file_extension": ".py",
   "mimetype": "text/x-python",
   "name": "python",
   "nbconvert_exporter": "python",
   "pygments_lexer": "ipython2",
   "version": "2.7.12"
  }
 },
 "nbformat": 4,
 "nbformat_minor": 1
}
