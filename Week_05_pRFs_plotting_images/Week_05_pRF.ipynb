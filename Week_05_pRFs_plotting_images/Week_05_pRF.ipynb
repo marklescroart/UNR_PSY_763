{
 "cells": [
  {
   "cell_type": "markdown",
   "metadata": {},
   "source": [
    "# pRFs!\n",
    "\n",
    "This week we will DO pRF analysis. This will rely on a few concepts we've touched briefly on so far, and a little spoon-feeding in the realm of stimulus generation. But we will do a close approximation of all the modeling of responses done in pRF analysis in this notebook (without actually bringing real fMRI data into the picture). "
   ]
  },
  {
   "cell_type": "code",
   "execution_count": null,
   "metadata": {},
   "outputs": [],
   "source": [
    "# imports\n",
    "import numpy as np\n",
    "import matplotlib.pyplot as plt\n",
    "from scipy.stats import zscore\n",
    "# The next line simply imports all the functions defined in prf_utils.py \n",
    "# (a file in this same directory) These will be useful!\n",
    "import prf_utils as prf \n",
    "%matplotlib inline"
   ]
  },
  {
   "cell_type": "markdown",
   "metadata": {},
   "source": [
    "# Pre-class exercises\n",
    "The following cells are intended to be simple demos (and one pretty straightforward exercise) to give you a little more insight into the plotting functions that we have been and will continue to be using. If you can find time to walk through these cells before class, we are less likely to get bogged down in simple python plotting stuff, and will be able to spend more time on modeling concepts. \n",
    "\n",
    "This notebook makes more use of plotting functions, particularly `imshow()`, which is really useful for plotting array data such as fMRI data. If you are familiar with Matlab, this is very similar to the Matlab function `imagesc`. There are a few keyword arguments that are useful to know about this function, which are highlighted below:"
   ]
  },
  {
   "cell_type": "code",
   "execution_count": null,
   "metadata": {},
   "outputs": [],
   "source": [
    "# Some random data\n",
    "data = np.random.rand(10,10)\n",
    "# show the array, with a particular color map:\n",
    "plt.imshow(data, cmap='hot');\n",
    "# Other colormaps can be found with the Google machine, or by doing autocomplete on the following line:\n",
    "# (plt.cm is matplotlib .C.olor .M.aps)\n",
    "# plt.cm. # (un-comment this, then press `tab` at the end of the line to use autocomplete.)"
   ]
  },
  {
   "cell_type": "code",
   "execution_count": null,
   "metadata": {},
   "outputs": [],
   "source": [
    "# The `extent` keyword defines the X and Y extents of the image data.\n",
    "# vmin and vmax determine the bounds of the color scale. Here, the image will be dark, because\n",
    "# the values in the array only go up to 1, but the max of the color scale (vmax) is 2\n",
    "plt.imshow(data, cmap='gray', extent=[-1, 1, -1, 1], vmin=0, vmax=2)\n",
    "# a color scale can be shown with plt.colorbar()\n",
    "plt.colorbar();"
   ]
  },
  {
   "cell_type": "markdown",
   "metadata": {},
   "source": [
    "Another very useful function is `plt.subplots`, which returns a grid of plots inside a figure, like so:"
   ]
  },
  {
   "cell_type": "code",
   "execution_count": null,
   "metadata": {},
   "outputs": [],
   "source": [
    "fig, axs = plt.subplots(2, 2)\n",
    "# These can be cleaned up a little with this line (uncomment it to see the effect)\n",
    "#plt.tight_layout()"
   ]
  },
  {
   "cell_type": "markdown",
   "metadata": {},
   "source": [
    "The `fig` variable that this function returns is a handle to the figure (the whole shebang), and the `axs` variable is an array of handles to each individual axis. So, for example, `axs[0,0]` is the top left axis. If we wanted to plot an image of random noise in that axis, we would do the following:"
   ]
  },
  {
   "cell_type": "code",
   "execution_count": null,
   "metadata": {},
   "outputs": [],
   "source": [
    "fig, axs = plt.subplots(2, 2)\n",
    "axs[0,0].imshow(np.random.rand(10,10))"
   ]
  },
  {
   "cell_type": "markdown",
   "metadata": {},
   "source": [
    "If you want to loop over all the axes in this subplot, it's often easier to flatten that array of axis handles. Here's how you would do that:"
   ]
  },
  {
   "cell_type": "code",
   "execution_count": null,
   "metadata": {},
   "outputs": [],
   "source": [
    "# Plot sine waves of different frequencies in different subplots\n",
    "fig, axs = plt.subplots(2, 2)\n",
    "i = 1\n",
    "t = np.linspace(0, 2 * np.pi)\n",
    "for ax in axs.flatten():\n",
    "    # Note that here, you are using a method of the axis handle to do the plotting.\n",
    "    # This works much the same way as plt.plot(), but this is actually the preferred \n",
    "    # pythonic way to make plots. plt.plot() is simple, but ends up being kludge-y \n",
    "    # in many use cases (e.g. for subplots, which are really common)\n",
    "    ax.plot(t, np.sin(t*i))\n",
    "    i += 1\n",
    "# clean up\n",
    "plt.tight_layout()"
   ]
  },
  {
   "cell_type": "markdown",
   "metadata": {},
   "source": [
    "## Exercise 0\n",
    "Make a plot that looks like this:\n",
    "    \n",
    "<img src=\"sinplot_4across.png\",width=900>\n",
    "\n",
    "Note that you will have to change the size of the overall figure to do this! How will you do that? (hint: use the help for `plt.subplots`!)"
   ]
  },
  {
   "cell_type": "code",
   "execution_count": null,
   "metadata": {},
   "outputs": [],
   "source": [
    "# Fill me in\n",
    "fig, axs = ...\n"
   ]
  },
  {
   "cell_type": "markdown",
   "metadata": {},
   "source": [
    "As a side note, there is a useful way to get rid of that `i+=1` part of that loop. The function `enumerate()` automatically generates an index for whatever your loop variable is, like so:"
   ]
  },
  {
   "cell_type": "code",
   "execution_count": null,
   "metadata": {},
   "outputs": [],
   "source": [
    "# Plot sine waves of different frequencies in different subplots\n",
    "fig, axs = plt.subplots(2, 2)\n",
    "# i = 1 # Not necessary!\n",
    "t = np.linspace(0, 2 * np.pi)\n",
    "# Note the syntax for enumerate here. The second argument (1) says start indexing at 1; \n",
    "# if that argument is not included, the first value of `i` will be 0\n",
    "for i, ax in enumerate(axs.flatten(), 1): \n",
    "    ax.plot(t, np.sin(t*i))\n",
    "    # i += 1 # Not necessary!\n",
    "    # This is just here to show each value of `i` in the loop. Note python string formatting.\n",
    "    ax.set_title('N cycles = %d'%i) \n",
    "# clean up\n",
    "plt.tight_layout()"
   ]
  },
  {
   "cell_type": "markdown",
   "metadata": {},
   "source": [
    "# Main class \n",
    "First up: pRF analysis depends on defining Gaussian receptive fields in 2D. We already generated a 2D Gaussian as a smoothing kernel; we will adapt that code here to define many potential receptive fields. Remember, the equation for a 2D Gaussian is:\n",
    "\n",
    "# $g = e^{-\\frac{(x-\\mu_x)^2 + (y-\\mu_y)^2}{2\\sigma^2}}$\n",
    "\n",
    "... where $\\mu_x$ and $\\mu_y$ are the x and y coordinates for the center of the Gaussian, and $\\sigma$ is the standard deviation of the Gaussian (in this formuation, the Gaussian is circular). \n",
    "\n",
    "So what we have to do is evaluate this expression for a range of values for $x$ and $y$ - say, an image's worth of values. So first we must define x and y..."
   ]
  },
  {
   "cell_type": "code",
   "execution_count": null,
   "metadata": {},
   "outputs": [],
   "source": [
    "# Define parameters that define X, Y space (in visual degrees!)\n",
    "stim_radius_degrees = 10\n",
    "stim_res_pixels = 101\n",
    "t = np.linspace(-stim_radius_degrees, stim_radius_degrees, stim_res_pixels)\n",
    "x, y = np.meshgrid(t, t)\n",
    "\n",
    "# Let's show what we've done here\n",
    "# Here's a really useful command to return a figure and subplots within that figure:\n",
    "rows = 1 # Defined here to be explicit\n",
    "columns = 2 # Defined here to be explicit\n",
    "fig, ax = plt.subplots(rows, columns)\n",
    "# Note the use of `extent` here - extent specifies the X and Y coordinates of the \n",
    "# image as displayed! If extent is not specified, the X and Y coordinates of the plot\n",
    "# are assumed to be indices for 0 to n_pixels in the image,\n",
    "extent = [-stim_radius_degrees, stim_radius_degrees, -stim_radius_degrees, stim_radius_degrees]\n",
    "im1 = ax[0].imshow(x, extent=extent, cmap='gray')\n",
    "im2 = ax[1].imshow(y, extent=extent, cmap='gray')\n",
    "print('x min: {}, x max: {}'.format(x.min(), x.max()))\n",
    "print('y min: {}, y max: {}'.format(y.min(), y.max()))\n",
    "plt.tight_layout()"
   ]
  },
  {
   "cell_type": "markdown",
   "metadata": {},
   "source": [
    "## Exercise 1\n",
    "Write a function to generate a Gaussian with some specific $\\mu_x$, $\\mu_y$, and $\\sigma$\n",
    "\n",
    "Use that function to generate a Gaussian with $\\mu_x$ = 5, $\\mu_y$ = 0, and $\\sigma$ = 0.5"
   ]
  },
  {
   "cell_type": "code",
   "execution_count": null,
   "metadata": {},
   "outputs": [],
   "source": [
    "# Fill me in!\n",
    "def make_gauss(mu_x, mu_y, sigma, x=x, y=y):\n",
    "    \"\"\"Generate a 2D Gaussian function\n",
    "    \n",
    "    Parameters\n",
    "    ----------\n",
    "    mu_x : scalar\n",
    "        x mean (center) of Gaussian\n",
    "    mu_y : scalar\n",
    "        y mean (center) of Gaussian\n",
    "    sigma : scalar\n",
    "        standard deviation of Gaussian\n",
    "    x : array\n",
    "        x value or values over which to evaluate the function\n",
    "    y : array\n",
    "        y value or values over which to evaluate the function\n",
    "    \"\"\"\n",
    "    g = np.e # ... ???\n",
    "    return g"
   ]
  },
  {
   "cell_type": "code",
   "execution_count": null,
   "metadata": {},
   "outputs": [],
   "source": [
    "# ... and then make a Gaussian with mu_x=5, mu_y=0, and sigma=0.5!\n",
    "g = make_gauss(5, 0, 0.5)\n",
    "# And display it!\n",
    "# somehow?"
   ]
  },
  {
   "cell_type": "markdown",
   "metadata": {},
   "source": [
    "## Exercise 2\n",
    "Now, make a bunch of Gaussians! Define a grid of potential (x, y) locations and $\\sigma$ values, and create an image of a Gaussian for each! store them all in a 3D array (x, y, gaussian image). This will end up being of shape (101, 101, n_gaussians) (101 is the pixel resolution for these images that we specified above)\n",
    "\n",
    "Hint: this will probably involve a loop, or loops! There are two ways to go about creating and filling a 3D array: \n",
    "\n",
    "1. Generate an array of zeros first, and substitute values into it. \n",
    "2. Create a list of 2D images and use the function `np.dstack()` (remember how to get help on any function??)"
   ]
  },
  {
   "cell_type": "code",
   "execution_count": null,
   "metadata": {},
   "outputs": [],
   "source": [
    "# Fill me in!\n",
    "# (Maybe do something here...?)\n",
    "# Loop over x values\n",
    "for x in some_list_of_xs_called_something_besides_this_horrible_variable:\n",
    "    # Loop over y values\n",
    "    for y in yeah_something_else:\n",
    "        # More loops...?\n",
    "        \n",
    "        # Do something!\n",
    "        \n",
    "# Finish up"
   ]
  },
  {
   "cell_type": "markdown",
   "metadata": {},
   "source": [
    "# Exercise 3\n",
    "Show all the Gaussians you have created that are a particular size! i.e., all Gaussians with X=1 (or whatever), Y=1 (or whatever), and each value of sigma that you specified. Hint: If you have done this in a sensible way, then these specific Gaussians should be some regular number of indices away from each other in the 3rd dimension of your array! When you index an array, the index for each dimension goes [start:stop:step]. So, e.g., `X[:, ::2]` selects every other column of `X` (first dimension of an array is rows, second dimension is columns). "
   ]
  },
  {
   "cell_type": "code",
   "execution_count": null,
   "metadata": {},
   "outputs": [],
   "source": [
    "# hint: use subplots\n",
    "fig, axs = plt.subplots() # ... how many?\n",
    "# Show a different Gaussian in each subplot..."
   ]
  },
  {
   "cell_type": "markdown",
   "metadata": {},
   "source": [
    "# Exercise 4: Make stimuli! \n",
    "The next step (or, a parallel step) in pRF analysis is to create a contrast image for your stimulus. The way that this was done is not specified in the paper, because this is fairly straightforward to figure out, if you think carefully about it! \n",
    "\n",
    "Most of this code will be provided for you, but I want to give you a taste of how it is done. So first, let's create a circle of radius 10 over the grid of X, Y values we already have. That is, we want an image for which every value inside the circle is 1, and every value outside of it is 0, like this: \n",
    "\n",
    "<img src=\"circle_image.png\",width=300,height=300>\n",
    "\n",
    "A filled circle can be defined over a range of X and Y values by:\n",
    "1. computing the distance from a fixed point in the X, Y plane (0, 0 is a good one!)\n",
    "    Distance (Euclidean distance) is computed by the Pythagorean theorm: $d = \\sqrt{(x-x0)^2 + (y-y0)^2}$\n",
    "2. using an inequality to select all points less than some distance (the radius of the circle) from the fixed point\n",
    "    i.e., d < 10\n",
    "    (if this is done for a whole array of values, then the values for the array all evaluate to `True` or `False` - which can be converted to 1s and 0s!"
   ]
  },
  {
   "cell_type": "code",
   "execution_count": null,
   "metadata": {},
   "outputs": [],
   "source": [
    "# Fill me in!\n",
    "# Define distance from the point 0, 0:\n",
    "d = 0 # ...?\n",
    "circle = 0 # ...?\n",
    "# to convert True / False values to 0 and 1, just use: \n",
    "circle = np.float(circle)\n",
    "# And then show the result!\n",
    "plt.imshow(circle, extent=extent);"
   ]
  },
  {
   "cell_type": "markdown",
   "metadata": {},
   "source": [
    "# For our next trick, we will create a bar stimulus inside that circle!\n",
    "This part we will just do as a demo; too much complexity for 1 hour"
   ]
  },
  {
   "cell_type": "code",
   "execution_count": null,
   "metadata": {},
   "outputs": [],
   "source": [
    "# Define bar parameters (modify these to see how it changes the plot!)\n",
    "orientation = np.radians(45) # 45 degrees\n",
    "width = 2\n",
    "phase = 0.33 # 0-1\n",
    "# Define sampling of visual space\n",
    "t = np.linspace(-stim_radius_degrees, stim_radius_degrees, stim_res_pixels)\n",
    "# Define grid sampling X and Y space\n",
    "xg, yg = np.meshgrid(t, t)\n",
    "# Make a circle as above\n",
    "r = np.sqrt(xg**2 + yg**2)\n",
    "full_area = r < stim_radius_degrees\n",
    "# Scale X and Y gradients to tip line of inequality below\n",
    "xg *= np.sin(orientation)\n",
    "yg *= np.cos(orientation)\n",
    "# Define two separate inequalities\n",
    "p1 = stim_radius_degrees * 2 * phase + -stim_radius_degrees - width / 2.0\n",
    "p2 = stim_radius_degrees * 2 * phase + -stim_radius_degrees + width / 2.0\n",
    "# Double inequality selects a bar of space\n",
    "bar = ((xg+yg) >= p1) & ((xg+yg) <= p2)\n",
    "# Couple that with the original circle, and you've got a bar!\n",
    "mask = bar & full_area\n",
    "mask = mask.astype(np.float)\n",
    "plt.imshow(mask, cmap='gray');"
   ]
  },
  {
   "cell_type": "markdown",
   "metadata": {},
   "source": [
    "Code to create bars like this in a sequence of frames is already in the prf_utils.py function (you can have a look at the code there if you're curious!). For now, we will simply use the following function to define a bunch of bars moving across the visual field."
   ]
  },
  {
   "cell_type": "code",
   "execution_count": null,
   "metadata": {},
   "outputs": [],
   "source": [
    "# Create a whole array of bar stimuli in different positions\n",
    "bars = prf.make_bar_sequence()\n",
    "# Size is pixels_x x pixels_y x time\n",
    "print(bars.shape)\n",
    "# The last dimension is the number of TRs in this experiment. \n",
    "n_trs = bars.shape[-1]"
   ]
  },
  {
   "cell_type": "code",
   "execution_count": null,
   "metadata": {},
   "outputs": [],
   "source": [
    "# The sequence of bars over frames (TRs) follows a similar pattern to the bars in the Dumoulin paper\n",
    "fig, axs = plt.subplots(4, 8, figsize=(12,6))\n",
    "i = 0\n",
    "for ax in axs.flatten():\n",
    "    ax.imshow(bars[:, :, i], cmap='gray')\n",
    "    ax.set_xticks([])\n",
    "    ax.set_yticks([])\n",
    "    ax.set_title('TR = %d'%i)\n",
    "    i += 4\n",
    "plt.tight_layout()"
   ]
  },
  {
   "cell_type": "markdown",
   "metadata": {},
   "source": [
    "SO! In pRF analysis, we want to predict the response to each of these bar stimuli (i.e., the response to each frame), for each potential pRF (for each different Gaussian in our list of Gaussians). \n",
    "\n",
    "To predict the response for a single frame for a single Gaussian, you simply multiply the two images together, and sum over all pixels. So: Do it! \n",
    "\n",
    "## Exercise 5: predict a response!\n",
    "For this exercise, we will define a specific gaussian and a specific bar."
   ]
  },
  {
   "cell_type": "code",
   "execution_count": null,
   "metadata": {},
   "outputs": [],
   "source": [
    "g_ex5 = make_gauss(2, 0, 1)\n",
    "bar_ex5 = prf.make_bar_im(2, 45, 0.5)\n",
    "fig, axs = plt.subplots(1, 3)\n",
    "# Show Gaussian\n",
    "axs[0].imshow(g_ex5, cmap='hot', extent=extent)\n",
    "# Show bar\n",
    "axs[1].imshow(bar_ex5, cmap='gray', extent=extent)\n",
    "# Show image overlap of bar on top of Gaussian\n",
    "axs[2].imshow(g_ex5, alpha=0.5, cmap='hot', extent=extent)\n",
    "axs[2].imshow(bar_ex5, alpha=0.5, cmap='gray', extent=extent)\n",
    "# Clean things up\n",
    "plt.tight_layout()"
   ]
  },
  {
   "cell_type": "code",
   "execution_count": null,
   "metadata": {},
   "outputs": [],
   "source": [
    "# So...\n",
    "resp_ex5 = 0 # ? WHAT will the response be? (this should be a single number!)"
   ]
  },
  {
   "cell_type": "markdown",
   "metadata": {},
   "source": [
    "The next cells reveal the answer to the above exercise, so please stop scrolling till you're done..."
   ]
  },
  {
   "cell_type": "code",
   "execution_count": null,
   "metadata": {},
   "outputs": [],
   "source": []
  },
  {
   "cell_type": "code",
   "execution_count": null,
   "metadata": {},
   "outputs": [],
   "source": []
  },
  {
   "cell_type": "code",
   "execution_count": null,
   "metadata": {},
   "outputs": [],
   "source": []
  },
  {
   "cell_type": "code",
   "execution_count": null,
   "metadata": {},
   "outputs": [],
   "source": []
  },
  {
   "cell_type": "code",
   "execution_count": null,
   "metadata": {},
   "outputs": [],
   "source": []
  },
  {
   "cell_type": "code",
   "execution_count": null,
   "metadata": {},
   "outputs": [],
   "source": []
  },
  {
   "cell_type": "markdown",
   "metadata": {},
   "source": [
    "No seriously. Do the exercise first. It's not too bad."
   ]
  },
  {
   "cell_type": "code",
   "execution_count": null,
   "metadata": {},
   "outputs": [],
   "source": []
  },
  {
   "cell_type": "code",
   "execution_count": null,
   "metadata": {},
   "outputs": [],
   "source": []
  },
  {
   "cell_type": "code",
   "execution_count": null,
   "metadata": {},
   "outputs": [],
   "source": []
  },
  {
   "cell_type": "code",
   "execution_count": null,
   "metadata": {},
   "outputs": [],
   "source": []
  },
  {
   "cell_type": "code",
   "execution_count": null,
   "metadata": {},
   "outputs": [],
   "source": []
  },
  {
   "cell_type": "code",
   "execution_count": null,
   "metadata": {},
   "outputs": [],
   "source": []
  },
  {
   "cell_type": "code",
   "execution_count": null,
   "metadata": {},
   "outputs": [],
   "source": []
  },
  {
   "cell_type": "markdown",
   "metadata": {},
   "source": [
    "So! Here's a sneaky trick you may not have realized. You don't necessarily have to keep the images in image form, if you are just multiplying pixels by pixels and then summing everything up. You can do either of the following:"
   ]
  },
  {
   "cell_type": "code",
   "execution_count": null,
   "metadata": {},
   "outputs": [],
   "source": [
    "# Simple sum\n",
    "resp_ex5 = np.sum(g_ex5 * bar_ex5)\n",
    "# Matrix dot product (Same operation!)\n",
    "g_ex5_ = g_ex5.reshape(stim_res_pixels**2, 1)\n",
    "bar_ex5_ = bar_ex5.reshape(stim_res_pixels**2, 1)\n",
    "resp_ex5_ = g_ex5_.T.dot(bar_ex5_)"
   ]
  },
  {
   "cell_type": "code",
   "execution_count": null,
   "metadata": {},
   "outputs": [],
   "source": [
    "# Same same!\n",
    "print(resp_ex5_) # well, this is in an array, but the value is the same.\n",
    "print(resp_ex5)"
   ]
  },
  {
   "cell_type": "markdown",
   "metadata": {},
   "source": [
    "# Blackboard talk\n",
    "... The upshot of all this is that we can quickly compute *all* of the responses using a single matrix operation, if we reshape the arrays containing the bar stimuli and the Gaussians first:"
   ]
  },
  {
   "cell_type": "code",
   "execution_count": null,
   "metadata": {},
   "outputs": [],
   "source": [
    "# Reshape arrays for stimuli & Gaussians\n",
    "stim = bars.reshape(stim_res_pixels**2, -1).T\n",
    "# The result is of shape (time x all pixels)\n",
    "print(stim.shape)\n",
    "gr = g.reshape(stim_res_pixels**2, -1)\n",
    "# The result here is of shape (all pixels x Specific Gaussian)\n",
    "print(gr.shape)"
   ]
  },
  {
   "cell_type": "markdown",
   "metadata": {},
   "source": [
    "Now, this matrix dot product yields an array that is time x Gaussians; i.e., each column is a prediction of a response for one of the Gaussian pRFs over the timecourse of the bar stimuli."
   ]
  },
  {
   "cell_type": "code",
   "execution_count": null,
   "metadata": {},
   "outputs": [],
   "source": [
    "# Compute *all* predictions\n",
    "p_raw = stim.dot(gr) # So simple!\n",
    "print(p_raw.shape)"
   ]
  },
  {
   "cell_type": "markdown",
   "metadata": {},
   "source": [
    "# Fancy animated plot\n",
    "to show what we've done"
   ]
  },
  {
   "cell_type": "code",
   "execution_count": null,
   "metadata": {},
   "outputs": [],
   "source": [
    "from IPython.display import HTML\n",
    "def make_fancy_anim(idx, resp=p_raw, prfims=g, stim=bars, interval=80, normalize_response=True, extent=extent):\n",
    "    \"\"\"This just sets some defaults for the prf function based on stuff above in this notebook\"\"\"\n",
    "    return prf.make_fancy_anim(idx, resp=resp, prf=prfims, stim=stim, interval=interval, \n",
    "                               normalize_response=normalize_response, extent=extent)"
   ]
  },
  {
   "cell_type": "code",
   "execution_count": null,
   "metadata": {},
   "outputs": [],
   "source": [
    "# The next line is a little fancy. Don't worry about this too much, you can just\n",
    "# pick a random index from 0 to 1350 and see what it does.\n",
    "index, = np.where((xysig == (mu_xs[5], mu_ys[9], sigmas[3])).all(axis=1))[0]\n",
    "# Or, e.g.:\n",
    "# index = 122\n",
    "anim = make_fancy_anim(index, resp=p_raw, normalize_response=True)\n",
    "HTML(anim.to_html5_video())"
   ]
  },
  {
   "cell_type": "markdown",
   "metadata": {},
   "source": [
    "# Exercise 6\n",
    "Each column of `p` needs to be convolved with the HRF function to make a real prediction of fMRI responses. You have already seen how to do a 1D convolution using `np.convolve`; now, try doing it in a loop, modifying each column of p! As with the array of Gaussians above, this can be done one of two ways: by pre-allocating an array, or by collecting results in a list and creating an array from that list at the end. When you are done, plot a single column of `p`, and in the same plot, plot the HRF-convolved version of the same column."
   ]
  },
  {
   "cell_type": "code",
   "execution_count": null,
   "metadata": {},
   "outputs": [],
   "source": [
    "# Get a fancy two-gamma HRF\n",
    "t_hrf, hrf = prf.make_hrf(tr=1.5)\n",
    "plt.plot(t_hrf, hrf);"
   ]
  },
  {
   "cell_type": "code",
   "execution_count": null,
   "metadata": {},
   "outputs": [],
   "source": [
    "# Fill me in!\n",
    "p_hrf = [] # ? "
   ]
  },
  {
   "cell_type": "code",
   "execution_count": null,
   "metadata": {},
   "outputs": [],
   "source": [
    "# Show the convolved HRF plot in our fancy animation:\n",
    "index, = np.where((xysig == (mu_xs[5], mu_ys[9], sigmas[3])).all(axis=1))[0]\n",
    "anim = make_fancy_anim(index, resp=p_hrf, normalize_response=True)\n",
    "HTML(anim.to_html5_video())"
   ]
  },
  {
   "cell_type": "markdown",
   "metadata": {},
   "source": [
    "As a last side note, there is another useful function for doing convolution: `scipy.ndimage.convolve1d()`. This function allows you to specify an axis along which to convolve the data (here, the 0th axis, aka the first or vertical axis). The syntax is a bit different than the numpy function - the specification of `mode` handles what values are assumed to be outside the timecourse of the stimulus, and the `origin` keyword argument specifies where the convolution kernel should be centered (0 is at the middle of the kernel, here the middle of the HRF; -11, here, is at the far left of the HRF (because the HRF is 22 units long, and half of 22 is 11). We specify -11 and not zero because the HRF is a DELAY in the signal, not a symmetrical filter, we want the effect of the convolution to occur AFTER events or deflections in the original stimulus model. \n",
    "\n",
    "This handling of where the convolution kernel is centered is an issue with any convolution function; previously, we handled this by using mode='full' and clipping only the end, not the end and the beginning, of the resulting data."
   ]
  },
  {
   "cell_type": "code",
   "execution_count": null,
   "metadata": {},
   "outputs": [],
   "source": [
    "from scipy.ndimage import convolve1d"
   ]
  },
  {
   "cell_type": "code",
   "execution_count": null,
   "metadata": {},
   "outputs": [],
   "source": [
    "p_hrf2 = convolve1d(p_raw, hrf, axis=0, mode='constant', origin=-11)\n",
    "\n",
    "# Plot to show that this gives the same result w/ more compact code:\n",
    "plt.plot(p_raw[:, idx], label='original response')\n",
    "plt.plot(p_hrf[:, idx], '.-', label='numpy function\\n+ loop')\n",
    "plt.plot(p_hrf2[:, idx], 'k.:', label='scipy function')\n",
    "plt.legend(loc='best')"
   ]
  },
  {
   "cell_type": "code",
   "execution_count": null,
   "metadata": {},
   "outputs": [],
   "source": [
    "# And just to show you what happens if you set origin to 0:\n",
    "p_hrf2 = convolve1d(p_raw, hrf, axis=0, mode='constant', origin=0)\n",
    "\n",
    "# Plot to show that this gives the same result w/ more compact code:\n",
    "plt.plot(p_raw[:, idx], label='original response')\n",
    "plt.plot(p_hrf[:, idx], '.-', label='numpy function\\n+ loop')\n",
    "plt.plot(p_hrf2[:, idx], 'k.:', label='scipy function')\n",
    "plt.legend(loc='best')\n",
    "# This is obviously not what you intended with the HRF (black lines resulting from scipy convolution \n",
    "# are now BEFORE stimulus eventts)"
   ]
  },
  {
   "cell_type": "markdown",
   "metadata": {},
   "source": [
    "The last step in pRF analysis is to compare each of these predictions to real brain responses recorded while a subject was watching bar stimuli flicker past. We *may* get to that in subsequent weeks (or simply in a demo notebook), but for now it's beyond our scope..."
   ]
  },
  {
   "cell_type": "code",
   "execution_count": null,
   "metadata": {},
   "outputs": [],
   "source": []
  },
  {
   "cell_type": "code",
   "execution_count": null,
   "metadata": {},
   "outputs": [],
   "source": []
  }
 ],
 "metadata": {
  "kernelspec": {
   "display_name": "Python 3",
   "language": "python",
   "name": "python3"
  },
  "language_info": {
   "codemirror_mode": {
    "name": "ipython",
    "version": 3
   },
   "file_extension": ".py",
   "mimetype": "text/x-python",
   "name": "python",
   "nbconvert_exporter": "python",
   "pygments_lexer": "ipython3",
   "version": "3.5.2"
  }
 },
 "nbformat": 4,
 "nbformat_minor": 2
}
